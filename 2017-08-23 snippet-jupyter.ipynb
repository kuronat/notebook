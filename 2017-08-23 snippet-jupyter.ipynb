{
 "cells": [
  {
   "cell_type": "markdown",
   "metadata": {},
   "source": [
    "# JupyterNotebookで使うコマンド\n",
    "* 3回以上使いそうなコマンドのみ"
   ]
  },
  {
   "cell_type": "markdown",
   "metadata": {},
   "source": [
    "## GitHubリポジトリで管理\n",
    "* [kuronat/notebook](https://github.com/kuronat/notebook) 作った\n",
    "* 何か書いているとGitHubに草が生えて便利"
   ]
  },
  {
   "cell_type": "code",
   "execution_count": 13,
   "metadata": {},
   "outputs": [
    {
     "name": "stdout",
     "output_type": "stream",
     "text": [
      "Initialized empty Git repository in /Users/lazur/Dropbox/stock/mygithub/kuronat/notebook/.git/\n"
     ]
    }
   ],
   "source": [
    "%%bash\n",
    "git init\n",
    "git config user.name \"kuronat\"\n",
    "git config user.email \"kuronatt@outlook.jp\"\n",
    "git remote add origin git@github.com:kuronat/notebook.git"
   ]
  },
  {
   "cell_type": "markdown",
   "metadata": {},
   "source": [
    "横着デプロイスクリプト↓"
   ]
  },
  {
   "cell_type": "code",
   "execution_count": 21,
   "metadata": {},
   "outputs": [
    {
     "name": "stderr",
     "output_type": "stream",
     "text": [
      "To github.com:kuronat/notebook.git\n",
      "   7f55b8b..a3cd7e7  master -> master\n"
     ]
    }
   ],
   "source": [
    "%%bash\n",
    "git add .; git commit -m 'update' 1>/dev/null 2>/dev/null \n",
    "GIT_SSH_COMMAND=\"ssh -i ~/.ssh/id_rsa_kuronat@github\" git push origin master"
   ]
  },
  {
   "cell_type": "markdown",
   "metadata": {},
   "source": [
    "## ツールバーを隠す\n",
    "* jQueryによるDOM操作で実現\n",
    "* もう一度実行すると、ツールバーが出てくる"
   ]
  },
  {
   "cell_type": "code",
   "execution_count": 1,
   "metadata": {
    "scrolled": true
   },
   "outputs": [
    {
     "data": {
      "application/javascript": [
       "$('#header').toggle()"
      ],
      "text/plain": [
       "<IPython.core.display.Javascript object>"
      ]
     },
     "metadata": {},
     "output_type": "display_data"
    }
   ],
   "source": [
    "%%js\n",
    "$('#header').toggle()"
   ]
  }
 ],
 "metadata": {
  "kernelspec": {
   "display_name": "Python 3",
   "language": "python",
   "name": "python3"
  },
  "language_info": {
   "codemirror_mode": {
    "name": "ipython",
    "version": 3
   },
   "file_extension": ".py",
   "mimetype": "text/x-python",
   "name": "python",
   "nbconvert_exporter": "python",
   "pygments_lexer": "ipython3",
   "version": "3.6.1"
  }
 },
 "nbformat": 4,
 "nbformat_minor": 2
}
