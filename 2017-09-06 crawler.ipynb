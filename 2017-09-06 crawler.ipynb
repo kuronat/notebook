{
 "cells": [
  {
   "cell_type": "markdown",
   "metadata": {},
   "source": [
    "## クローラでよくあるパターン？\n",
    "「Linux鯖に置いたスクリプトをtmux内で動かすことでクロール」みたいなシチュエーション\n",
    "\n",
    "* インクリメントしながらURLを叩きたいケースである\n",
    "* リクエスト失敗・成功両方とも保存しておきたい\n",
    "* プログラムが再実行されたときに前回の状況をレジュームしてほしい\n",
    "* エンコード失敗のリスクを避けるために，バイナリのまま保存しておきたい\n",
    "* 特別なDBは使わず，ファイルだけで操作したい\n",
    "* 進捗状況を表示したい"
   ]
  },
  {
   "cell_type": "code",
   "execution_count": null,
   "metadata": {
    "collapsed": true
   },
   "outputs": [],
   "source": [
    "# flag.py\n",
    "import os\n",
    "import pickle\n",
    "class Flag:\n",
    "    def __init__(self, filename):\n",
    "        self.filename = filename\n",
    "        if os.path.isfile(self.filename):\n",
    "            with open(self.filename, 'rb') as f:\n",
    "                self.set = pickle.loads(f.read())\n",
    "        else:\n",
    "            self.set = set()\n",
    "    \n",
    "    def __enter__(self):\n",
    "        return self.set\n",
    "    \n",
    "    def __exit__(self, exc_type, exc_value, tb):\n",
    "        with open(self.filename, 'wb') as f:\n",
    "            f.write(pickle.dumps(self.set))"
   ]
  },
  {
   "cell_type": "markdown",
   "metadata": {},
   "source": [
    "* with句に入るときにファイルから集合を読み出す．なければ新規作成する．\n",
    "* with句を抜けるときにファイルに集合を書き出す"
   ]
  },
  {
   "cell_type": "code",
   "execution_count": null,
   "metadata": {},
   "outputs": [],
   "source": [
    "# crawl.py\n",
    "import requests\n",
    "import pickle\n",
    "import dbm.ndbm as db\n",
    "import flag\n",
    "from tqdm import tqdm\n",
    "from retry import retry\n",
    "from logging import getLogger\n",
    "logger = getLogger(__name__)\n",
    "\n",
    "@retry(tries=3, delay=10)\n",
    "def request(url):\n",
    "    return requests.get(url, timeout=5)\n",
    "\n",
    "def main():\n",
    "    with db.open('db_success', 'c') as db_success,\\\n",
    "         db.open('db_failure', 'c') as db_failure,\\\n",
    "         flag.Flag(\"flag.pkl\") as flg:\n",
    "        \n",
    "        # 実行済みのものをフィルタ\n",
    "        nums = [ n for n in range(1,66376) if n not in flg ]\n",
    "        \n",
    "        # 進捗状況を表示しつつクローリング\n",
    "        for n in tqdm(nums):\n",
    "            url  = \"https://connpass.com/event/%d/participation\" % n\n",
    "            resp = request(url)\n",
    "\n",
    "            if resp.status_code == 200:\n",
    "                db_success[url] = resp.content\n",
    "            else:\n",
    "                db_failure[url] = pickle.dumps(resp)\n",
    "\n",
    "            print(\"%s %s\" % (url, resp))\n",
    "            flg.add(n)\n",
    "\n",
    "if __name__ == '__main__':\n",
    "    main()"
   ]
  },
  {
   "cell_type": "markdown",
   "metadata": {},
   "source": [
    "* tqdmモジュールにより，画面には進捗が表示される\n",
    "* retryモジュールにより，HTTPリクエストの再実行を制御する\n",
    "\n",
    "tqdmの出力はstderrなので，次のように書くことで，  \n",
    "ログはファイルに，進捗状況はコンソールにと出し分けることができる．\n",
    "\n",
    "```\n",
    "python crawl.py > log.txt\n",
    "```\n",
    "\n",
    "* Scrapy有名だけどいらなくないですか\n",
    "* HTML取得とスクレイピングを同時にやるのがだるい\n",
    "* Scrapyのレールに乗れないことがまれによくある，たいへんだるい\n",
    "* webUIくれるのかと思いきやそれもしょぼい\n",
    "* requestモジュールに一任してしまったほうが楽\n",
    "* 車の運転がオートマ派なのかマニュアル派なのか，みたいな．私はマニュアル派"
   ]
  }
 ],
 "metadata": {
  "kernelspec": {
   "display_name": "Python 3",
   "language": "python",
   "name": "python3"
  },
  "language_info": {
   "codemirror_mode": {
    "name": "ipython",
    "version": 3
   },
   "file_extension": ".py",
   "mimetype": "text/x-python",
   "name": "python",
   "nbconvert_exporter": "python",
   "pygments_lexer": "ipython3",
   "version": "3.6.1"
  }
 },
 "nbformat": 4,
 "nbformat_minor": 2
}
