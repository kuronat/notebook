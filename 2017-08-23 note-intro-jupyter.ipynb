{
 "cells": [
  {
   "cell_type": "markdown",
   "metadata": {},
   "source": [
    "# Introduction to Jupyter Notebook"
   ]
  },
  {
   "cell_type": "markdown",
   "metadata": {},
   "source": [
    "* Jupyter Notebook 独特でわすれそう\n",
    "* 知見をまとめておく"
   ]
  },
  {
   "cell_type": "markdown",
   "metadata": {},
   "source": [
    "## インストール\n",
    "* pyenv + Anaconda 入れろ"
   ]
  },
  {
   "cell_type": "markdown",
   "metadata": {},
   "source": [
    "# 心構え\n",
    "* WYSIWYG系のエディタを使っていると考える\n",
    "* セルを作ったり壊したりしているうちに全体がまとまってくる\n",
    "* Atomと同様ワーキングディレクトリの世界観があり、エディタの立ち上がりは遅め\n",
    "* github での管理は捗るけど git diff は諦めろ"
   ]
  },
  {
   "cell_type": "markdown",
   "metadata": {},
   "source": [
    "## ショートカット\n",
    "* `shift + enter` セルを実行する\n",
    "* `esc` editモードからcommandモードに抜ける\n",
    "* `a` `b` セルを足す\n",
    "* `dd` セルを消す\n",
    "* `m` Markdownにする\n",
    "* `00` カーネルリスタートする"
   ]
  },
  {
   "cell_type": "markdown",
   "metadata": {
    "slideshow": {
     "slide_type": "slide"
    }
   },
   "source": [
    "## Markdownを書きたい\n",
    "\n",
    "* commandモードで`m`を押す\n",
    "  + $LaTeX$でもOK\n",
    "* もしeditモードで書いているものをMarkdown化したい場合は\n",
    "  + `esc -> m -> enter`\n",
    "  + `esc -> m -> shift + enter` なら描画して進む"
   ]
  },
  {
   "cell_type": "markdown",
   "metadata": {},
   "source": [
    "## ノートブックベースのPythonコーディング\n",
    "* 分析系のスクリプティングに向いている\n",
    "    + 対話的なコーディング & ドキュメンテーション ががっちりハマる\n",
    "    + Webアプリ開発を.ipynbではいくらなんでも無理太郎\n",
    "* コーディングをやっていく手順\n",
    "    + ノートブック上で直接コーディングする\n",
    "    * 量が溜まってきたらスクリプトに切り出す\n",
    "+ プロコン\n",
    "    * 利点: 今やっていることを見失いにくい\n",
    "    * 欠点: 集中して作業できている感が得られにくい、エディタが使いにくい"
   ]
  },
  {
   "cell_type": "markdown",
   "metadata": {},
   "source": [
    "## ノートブックをどうやって蓄積・閲覧すればいいか\n",
    "* `.ipynb` はそのままだとマジで扱いにくい\n",
    "    + JSONなのでエディタだと見るに耐えない\n",
    "    + モバイルデバイスで見るには一体どうすれば？？\n",
    "* Markdownはよかった・・・\n",
    "    + とりあえずBoostnoteに乗っけておけという運用ができる\n",
    "    + マルチプラットフォームでの閲覧も簡単"
   ]
  },
  {
   "cell_type": "markdown",
   "metadata": {},
   "source": [
    "## => nbviewer\n",
    "* `.ipynb`を公開したり、モバイルで閲覧するのに、オススメできる\n",
    "* nbconvert as a webservice\n",
    "* `<embed src=nbviewer_url>`もいける\n",
    "* http://nbviewer.jupyter.org/ からどうぞ\n",
    "* 自分のGitHubリポジトリを使って雑にノートブックのカタマリを公開する\n",
    "    + http://nbviewer.jupyter.org/github/kuronat/notebook\n",
    "* プライベートリポジトリを触りたい場合\n",
    "    + Github Token を設定する必要がある\n",
    "    + したがって自分でDocker運用しなければならない\n",
    "    + 例) http://morishin.hatenablog.com/entry/2016/09/04/223646\n",
    "    + 面倒"
   ]
  },
  {
   "cell_type": "markdown",
   "metadata": {
    "slideshow": {
     "slide_type": "slide"
    }
   },
   "source": [
    "## Cell Magic\n",
    "* Pythonにかぎらず、なんでも動く\n",
    "* 使いこなすと`ipynb`にほぼ全部の作業手順を書ける"
   ]
  },
  {
   "cell_type": "code",
   "execution_count": 20,
   "metadata": {
    "scrolled": true
   },
   "outputs": [
    {
     "name": "stdout",
     "output_type": "stream",
     "text": [
      "hello world\n"
     ]
    }
   ],
   "source": [
    "%%bash\n",
    "echo hello"
   ]
  },
  {
   "cell_type": "code",
   "execution_count": 21,
   "metadata": {},
   "outputs": [
    {
     "name": "stdout",
     "output_type": "stream",
     "text": [
      "hello world\n"
     ]
    }
   ],
   "source": [
    "%%script node\n",
    "console.log(\"hello\")"
   ]
  },
  {
   "cell_type": "code",
   "execution_count": 22,
   "metadata": {},
   "outputs": [
    {
     "name": "stdout",
     "output_type": "stream",
     "text": [
      "hello"
     ]
    }
   ],
   "source": [
    "%%script perl\n",
    "print(\"hello\")"
   ]
  },
  {
   "cell_type": "code",
   "execution_count": 23,
   "metadata": {},
   "outputs": [
    {
     "name": "stdout",
     "output_type": "stream",
     "text": [
      "hello\n"
     ]
    }
   ],
   "source": [
    "%%script ruby\n",
    "puts \"hello\""
   ]
  },
  {
   "cell_type": "code",
   "execution_count": null,
   "metadata": {
    "collapsed": true
   },
   "outputs": [],
   "source": [
    "%%ruby\n",
    "puts \"hello world\"\n",
    "require \"foobar\""
   ]
  },
  {
   "cell_type": "code",
   "execution_count": 3,
   "metadata": {},
   "outputs": [
    {
     "name": "stderr",
     "output_type": "stream",
     "text": [
      "ERROR:root:Cell magic `%%sql` not found.\n"
     ]
    }
   ],
   "source": [
    "%%sql\n",
    "select * from tbl"
   ]
  },
  {
   "cell_type": "markdown",
   "metadata": {
    "slideshow": {
     "slide_type": "slide"
    }
   },
   "source": [
    "## 外部ファイルの読み込み"
   ]
  },
  {
   "cell_type": "markdown",
   "metadata": {},
   "source": [
    "まずファイルを準備"
   ]
  },
  {
   "cell_type": "code",
   "execution_count": 24,
   "metadata": {},
   "outputs": [
    {
     "name": "stdout",
     "output_type": "stream",
     "text": [
      "print(\"hello\")\n"
     ]
    }
   ],
   "source": [
    "%%script tee app.py\n",
    "print(\"hello\")"
   ]
  },
  {
   "cell_type": "code",
   "execution_count": 26,
   "metadata": {},
   "outputs": [
    {
     "name": "stdout",
     "output_type": "stream",
     "text": [
      "print(\"hello\")\r\n"
     ]
    }
   ],
   "source": [
    "! cat app.py"
   ]
  },
  {
   "cell_type": "markdown",
   "metadata": {},
   "source": [
    "`%load app.py` を実行すると、下のセルの結果になる。\n",
    "* スニペットを蓄積して利用？"
   ]
  },
  {
   "cell_type": "code",
   "execution_count": null,
   "metadata": {
    "collapsed": true
   },
   "outputs": [],
   "source": [
    "# %load app.py\n",
    "print(\"hello\")"
   ]
  },
  {
   "cell_type": "code",
   "execution_count": 32,
   "metadata": {
    "collapsed": true
   },
   "outputs": [],
   "source": [
    "# 普通に読み込めばいい\n",
    "import app"
   ]
  },
  {
   "cell_type": "markdown",
   "metadata": {
    "slideshow": {
     "slide_type": "slide"
    }
   },
   "source": [
    "## プレゼンテーション"
   ]
  },
  {
   "cell_type": "markdown",
   "metadata": {},
   "source": [
    "* View  > Cell Toolbar > Slideshow\n",
    "* 画面上部の 📊 ボタンで実行\n",
    "* `,` でボタンを隠す\n",
    "* `alt + r` でプレゼン終了\n",
    "* CSS + JS で表示を変えているだけなので、そのまま編集したりすることが可能\n",
    "* 正直あんまりかっこよくはない\n",
    "  + いちいちスライド作りたくないとき\n",
    "  + 急に発表しなければならず、追い詰められているとき"
   ]
  },
  {
   "cell_type": "code",
   "execution_count": null,
   "metadata": {
    "collapsed": true
   },
   "outputs": [],
   "source": [
    "conda install -c damianavila82 rise"
   ]
  },
  {
   "cell_type": "code",
   "execution_count": 40,
   "metadata": {},
   "outputs": [
    {
     "data": {
      "text/plain": [
       "{'transition': 'none'}"
      ]
     },
     "execution_count": 40,
     "metadata": {},
     "output_type": "execute_result"
    }
   ],
   "source": [
    "# 遷移時のアニメーションを切りたい\n",
    "import os\n",
    "from traitlets.config.manager import BaseJSONConfigManager\n",
    "path = os.path.expanduser('~/.jupyter/nbconfig')\n",
    "cm = BaseJSONConfigManager(config_dir=path)\n",
    "cm.update('livereveal', {\n",
    "    'transition': 'none',\n",
    "})"
   ]
  },
  {
   "cell_type": "markdown",
   "metadata": {},
   "source": [
    "## quicklook で ipynb を見る設定\n",
    "* 便利"
   ]
  },
  {
   "cell_type": "code",
   "execution_count": null,
   "metadata": {
    "collapsed": true
   },
   "outputs": [],
   "source": [
    "cd /tmp\n",
    "wget https://github.com/tuxu/ipynb-quicklook/releases/download/v0.1.1/ipynb-quicklook.qlgenerator.zip\n",
    "unzip ipynb-quicklook.qlgenerator.zip\n",
    "mv ipynb-quicklook.qlgenerator /Library/QuickLook\n",
    "sudo mv ipynb-quicklook.qlgenerator /Library/QuickLook\n",
    "qlmanage -r"
   ]
  },
  {
   "cell_type": "markdown",
   "metadata": {},
   "source": [
    "## Jupyter Labはあんまりよくない\n",
    "* 常用したくはない\n",
    "* バギーなので結局Notebookを開くハメになる\n",
    "* あると便利なシーンはあるので、入れておくのはOK\n",
    "    + `/lab` で触れるようになるのは便利\n",
    "* 悪くないんだけどあー、という感じ"
   ]
  },
  {
   "cell_type": "code",
   "execution_count": null,
   "metadata": {
    "collapsed": true
   },
   "outputs": [],
   "source": [
    "pip install jupyterlab"
   ]
  },
  {
   "cell_type": "markdown",
   "metadata": {},
   "source": [
    "## PDFにエクスポートする\n",
    "* 内部的にはpandocが走る\n",
    "* HTMLで十分では説"
   ]
  },
  {
   "cell_type": "code",
   "execution_count": null,
   "metadata": {
    "collapsed": true
   },
   "outputs": [],
   "source": [
    "conda install -y nbconvert"
   ]
  },
  {
   "cell_type": "markdown",
   "metadata": {},
   "source": [
    "## コンソールを出す\n",
    "\n",
    "* これを使えばOK\n",
    "* imgタグ、GitHubだと表示されないので渋い\n",
    "\n",
    "![](http://i.imgur.com/5NCyGxq.png)"
   ]
  },
  {
   "cell_type": "markdown",
   "metadata": {},
   "source": [
    "## ダブルクリッコで開くよう設定\n",
    "* http://qiita.com/snoopython/items/6c8dbfbbdce5b688129a これをやる\n",
    "* 嬉しいかどうかはなんともいえない\n",
    "* `jupyter-notebook --notebook-dir=$HOME` しておく\n",
    "    + これが面倒"
   ]
  },
  {
   "cell_type": "markdown",
   "metadata": {},
   "source": [
    "## デフォルトブラウザを設定\n",
    "\n",
    "* この設定、あまり使わなそう\n",
    "\n",
    "```\n",
    "jupyter notebook --generate-config\n",
    "subl ~/.jupyter/jupyter_notebook_config.py\n",
    "```\n",
    "\n",
    "```\n",
    "c.NotebookApp.browser = 'Firefox'\n",
    "```"
   ]
  },
  {
   "cell_type": "markdown",
   "metadata": {},
   "source": [
    "## SQLのシンタックスハイライト\n",
    "* https://stackoverflow.com/questions/43641362/adding-syntax-highlighting-to-jupyter-notebook-cell-magic/43686552"
   ]
  },
  {
   "cell_type": "code",
   "execution_count": 2,
   "metadata": {},
   "outputs": [
    {
     "data": {
      "application/javascript": [
       "require(['notebook/js/codecell'], function(codecell) {\n",
       "  codecell.CodeCell.options_default.highlight_modes['magic_text/x-mssql'] = {'reg':[/^%%sql/]} ;\n",
       "  Jupyter.notebook.events.one('kernel_ready.Kernel', function(){\n",
       "      Jupyter.notebook.get_cells().map(function(cell){\n",
       "          if (cell.cell_type == 'code'){ cell.auto_highlight(); } }) ;\n",
       "  });\n",
       "});"
      ],
      "text/plain": [
       "<IPython.core.display.Javascript object>"
      ]
     },
     "metadata": {},
     "output_type": "display_data"
    }
   ],
   "source": [
    "%%js\n",
    "require(['notebook/js/codecell'], function(codecell) {\n",
    "  codecell.CodeCell.options_default.highlight_modes['magic_text/x-mssql'] = {'reg':[/^%%sql/]} ;\n",
    "  Jupyter.notebook.events.one('kernel_ready.Kernel', function(){\n",
    "      Jupyter.notebook.get_cells().map(function(cell){\n",
    "          if (cell.cell_type == 'code'){ cell.auto_highlight(); } }) ;\n",
    "  });\n",
    "});"
   ]
  }
 ],
 "metadata": {
  "kernelspec": {
   "display_name": "Python 3",
   "language": "python",
   "name": "python3"
  },
  "language_info": {
   "codemirror_mode": {
    "name": "ipython",
    "version": 3
   },
   "file_extension": ".py",
   "mimetype": "text/x-python",
   "name": "python",
   "nbconvert_exporter": "python",
   "pygments_lexer": "ipython3",
   "version": "3.6.1"
  }
 },
 "nbformat": 4,
 "nbformat_minor": 2
}
