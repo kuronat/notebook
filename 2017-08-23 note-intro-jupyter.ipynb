{
 "cells": [
  {
   "cell_type": "markdown",
   "metadata": {},
   "source": [
    "# Introduction to Jupyter Notebook"
   ]
  },
  {
   "cell_type": "markdown",
   "metadata": {},
   "source": [
    "* Jupyter Notebook の入門的な知見まとめ"
   ]
  },
  {
   "cell_type": "markdown",
   "metadata": {},
   "source": [
    "## インストール\n",
    "* pyenv + Anaconda でOK"
   ]
  },
  {
   "cell_type": "markdown",
   "metadata": {},
   "source": [
    "## こころがまえ\n",
    "* WYSIWYG系のエディタを使っていると考える\n",
    "* セルを作ったり壊したりしているうちに全体がまとまってくる\n",
    "* Atomと同様、頻繁に立ち上げたりせず、一度建てたものを長く使う\n",
    "* github での管理は捗るけど git diff は期待しない\n",
    "* `notebooks` と `lab` を使い分ける\n",
    "* マークダウンセルは箇条書きがいい"
   ]
  },
  {
   "cell_type": "markdown",
   "metadata": {},
   "source": [
    "## 厳選ショートカット集\n",
    "* `shift + enter` セルを実行する\n",
    "* `esc` editモードからcommandモードに抜ける\n",
    "* `a` `b` セルを足す\n",
    "* `dd` セルを消す\n",
    "* `m` Markdownにする\n",
    "* `00` カーネルリスタートする\n",
    "* `x` `v` `c` セルの切り貼り\n",
    "* `z` セル編集操作取り消し"
   ]
  },
  {
   "cell_type": "markdown",
   "metadata": {
    "slideshow": {
     "slide_type": "slide"
    }
   },
   "source": [
    "## Markdownを書く\n",
    "\n",
    "* commandモードで`m`を押す\n",
    "  + $LaTeX$でもOK\n",
    "* 今editモード、codeセルをmarkdownセルにしたい\n",
    "  + → 基本機能の組み合わせで実現\n",
    "  + `esc > m > enter`\n",
    "  + `esc > m > shift + enter` "
   ]
  },
  {
   "cell_type": "markdown",
   "metadata": {
    "slideshow": {
     "slide_type": "slide"
    }
   },
   "source": [
    "## Cell Magic\n",
    "* Pythonにかぎらず、なんでも動く\n",
    "* 作業のノートブックでによる自己完結度が高まる"
   ]
  },
  {
   "cell_type": "code",
   "execution_count": 20,
   "metadata": {
    "scrolled": true
   },
   "outputs": [
    {
     "name": "stdout",
     "output_type": "stream",
     "text": [
      "hello world\n"
     ]
    }
   ],
   "source": [
    "%%bash\n",
    "echo hello"
   ]
  },
  {
   "cell_type": "code",
   "execution_count": 21,
   "metadata": {},
   "outputs": [
    {
     "name": "stdout",
     "output_type": "stream",
     "text": [
      "hello world\n"
     ]
    }
   ],
   "source": [
    "%%script node\n",
    "console.log(\"hello\")"
   ]
  },
  {
   "cell_type": "code",
   "execution_count": 22,
   "metadata": {},
   "outputs": [
    {
     "name": "stdout",
     "output_type": "stream",
     "text": [
      "hello"
     ]
    }
   ],
   "source": [
    "%%script perl\n",
    "print(\"hello\")"
   ]
  },
  {
   "cell_type": "code",
   "execution_count": 23,
   "metadata": {},
   "outputs": [
    {
     "name": "stdout",
     "output_type": "stream",
     "text": [
      "hello\n"
     ]
    }
   ],
   "source": [
    "%%script ruby\n",
    "puts \"hello\""
   ]
  },
  {
   "cell_type": "code",
   "execution_count": null,
   "metadata": {
    "collapsed": true
   },
   "outputs": [],
   "source": [
    "%%ruby\n",
    "puts \"hello world\"\n",
    "require \"foobar\""
   ]
  },
  {
   "cell_type": "markdown",
   "metadata": {},
   "source": [
    "## ノートブックベースのPythonコーディング\n",
    "* 分析系のスクリプティングに向いている\n",
    "    + 分析には 対話的なコーディング & ドキュメンテーション が必要\n",
    "        * ノートブックならそれらが簡単にできる\n",
    "* スクリプティングをやっていく手順\n",
    "    + ノートブック上で直接コーディングする\n",
    "    * 量が溜まってきたらスクリプトに切り出す\n",
    "+ プロコン\n",
    "    * 利点: 今やっていることを見失いにくい\n",
    "    * 欠点: エディタに癖があり慣れが必要"
   ]
  },
  {
   "cell_type": "markdown",
   "metadata": {},
   "source": [
    "## ノートブックをどうやって蓄積・閲覧すればいいか\n",
    "* そのままだと `.ipynb` はマジで扱いにくい\n",
    "    + JSONなのでエディタだと見るに耐えない\n",
    "    + モバイルデバイスで見るには一体どうすれば？？\n",
    "* Markdownは楽だった\n",
    "    + とりあえずBoostnoteに乗っけておけという運用ができる\n",
    "    + マルチプラットフォームでの閲覧も簡単"
   ]
  },
  {
   "cell_type": "markdown",
   "metadata": {},
   "source": [
    "## 答: nbviewer\n",
    "* とは\n",
    "    + http://nbviewer.jupyter.org/\n",
    "    + nbconvert as a webservice\n",
    "* ノートブック管理用のGitHubリポジトリを作ると捗る\n",
    "    + 見た目が良い\n",
    "    + レンダリングが速い\n",
    "    + モバイルの閲覧もOK\n",
    "    + 公開するにもOK\n",
    "        + 逆に公開しない場合に面倒\n",
    "* プライベートリポジトリを触りたい場合\n",
    "    + Github Token を設定する必要がある\n",
    "    + したがって、自鯖でのnbviewer運用が要求される\n",
    "    + 例) http://morishin.hatenablog.com/entry/2016/09/04/223646\n",
    "    + 面倒"
   ]
  },
  {
   "cell_type": "markdown",
   "metadata": {},
   "source": [
    "## プレゼンテーション\n",
    "* View  > Cell Toolbar > Slideshow\n",
    "* 画面上部の 📊 ボタンで実行\n",
    "* `,` でボタンを隠す\n",
    "* `alt + r` でプレゼン終了\n",
    "* CSS + JS で表示を変えているだけなので、そのまま編集したりすることが可能\n",
    "* 正直あんまりかっこよくはない\n",
    "  + いちいちスライド作りたくないとき\n",
    "  + 急に発表しなければならず、追い詰められているとき\n",
    "* nbviewerでもOK"
   ]
  },
  {
   "cell_type": "code",
   "execution_count": null,
   "metadata": {
    "collapsed": true
   },
   "outputs": [],
   "source": [
    "conda install -c damianavila82 rise"
   ]
  },
  {
   "cell_type": "code",
   "execution_count": 40,
   "metadata": {},
   "outputs": [
    {
     "data": {
      "text/plain": [
       "{'transition': 'none'}"
      ]
     },
     "execution_count": 40,
     "metadata": {},
     "output_type": "execute_result"
    }
   ],
   "source": [
    "# 遷移時のアニメーションを切りたい\n",
    "import os\n",
    "from traitlets.config.manager import BaseJSONConfigManager\n",
    "path = os.path.expanduser('~/.jupyter/nbconfig')\n",
    "cm = BaseJSONConfigManager(config_dir=path)\n",
    "cm.update('livereveal', {\n",
    "    'transition': 'none',\n",
    "})"
   ]
  },
  {
   "cell_type": "markdown",
   "metadata": {},
   "source": [
    "## quicklook で ipynb を見る設定\n",
    "* 便利"
   ]
  },
  {
   "cell_type": "code",
   "execution_count": null,
   "metadata": {
    "collapsed": true
   },
   "outputs": [],
   "source": [
    "cd /tmp\n",
    "wget https://github.com/tuxu/ipynb-quicklook/releases/download/v0.1.1/ipynb-quicklook.qlgenerator.zip\n",
    "unzip ipynb-quicklook.qlgenerator.zip\n",
    "mv ipynb-quicklook.qlgenerator /Library/QuickLook\n",
    "sudo mv ipynb-quicklook.qlgenerator /Library/QuickLook\n",
    "qlmanage -r"
   ]
  },
  {
   "cell_type": "markdown",
   "metadata": {},
   "source": [
    "## Jupyter Lab\n",
    "* `/lab` で開ける\n",
    "* スクリプティングには向いていない\n",
    "    + kernel再起動でハマる\n",
    "    + 結局Notebookを開くハメになる\n",
    "* ディレクトリ全体を整理するには良い\n",
    "    + 名前変えたり\n",
    "    + コミット前にipynbを整理したり"
   ]
  },
  {
   "cell_type": "code",
   "execution_count": null,
   "metadata": {
    "collapsed": true
   },
   "outputs": [],
   "source": [
    "pip install jupyterlab"
   ]
  },
  {
   "cell_type": "markdown",
   "metadata": {},
   "source": [
    "## PDFにエクスポートする\n",
    "* 内部的にはpandocが走る\n",
    "* HTMLで十分では説"
   ]
  },
  {
   "cell_type": "code",
   "execution_count": null,
   "metadata": {
    "collapsed": true
   },
   "outputs": [],
   "source": [
    "conda install -y nbconvert"
   ]
  },
  {
   "cell_type": "markdown",
   "metadata": {},
   "source": [
    "## コンソールを出す\n",
    "\n",
    "* これを使えばOK\n",
    "* imgタグ、GitHubだと表示されないので渋い\n",
    "\n",
    "![](http://i.imgur.com/5NCyGxq.png)"
   ]
  },
  {
   "cell_type": "markdown",
   "metadata": {},
   "source": [
    "## ダブルクリッコで開くよう設定\n",
    "* http://qiita.com/snoopython/items/6c8dbfbbdce5b688129a これをやる\n",
    "* 嬉しいかどうかはなんともいえない\n",
    "* `jupyter-notebook --notebook-dir=$HOME` しておく\n",
    "    + これが面倒"
   ]
  },
  {
   "cell_type": "markdown",
   "metadata": {},
   "source": [
    "## デフォルトブラウザを設定\n",
    "\n",
    "* この設定、あまり使わなそう\n",
    "\n",
    "```\n",
    "jupyter notebook --generate-config\n",
    "subl ~/.jupyter/jupyter_notebook_config.py\n",
    "```\n",
    "\n",
    "```\n",
    "c.NotebookApp.browser = 'Firefox'\n",
    "```"
   ]
  },
  {
   "cell_type": "markdown",
   "metadata": {},
   "source": [
    "## SQLのシンタックスハイライト\n",
    "* https://stackoverflow.com/questions/43641362/adding-syntax-highlighting-to-jupyter-notebook-cell-magic/43686552"
   ]
  },
  {
   "cell_type": "code",
   "execution_count": 2,
   "metadata": {},
   "outputs": [
    {
     "data": {
      "application/javascript": [
       "require(['notebook/js/codecell'], function(codecell) {\n",
       "  codecell.CodeCell.options_default.highlight_modes['magic_text/x-mssql'] = {'reg':[/^%%sql/]} ;\n",
       "  Jupyter.notebook.events.one('kernel_ready.Kernel', function(){\n",
       "      Jupyter.notebook.get_cells().map(function(cell){\n",
       "          if (cell.cell_type == 'code'){ cell.auto_highlight(); } }) ;\n",
       "  });\n",
       "});"
      ],
      "text/plain": [
       "<IPython.core.display.Javascript object>"
      ]
     },
     "metadata": {},
     "output_type": "display_data"
    }
   ],
   "source": [
    "%%js\n",
    "require(['notebook/js/codecell'], function(codecell) {\n",
    "  codecell.CodeCell.options_default.highlight_modes['magic_text/x-mssql'] = {'reg':[/^%%sql/]} ;\n",
    "  Jupyter.notebook.events.one('kernel_ready.Kernel', function(){\n",
    "      Jupyter.notebook.get_cells().map(function(cell){\n",
    "          if (cell.cell_type == 'code'){ cell.auto_highlight(); } }) ;\n",
    "  });\n",
    "});"
   ]
  },
  {
   "cell_type": "markdown",
   "metadata": {
    "slideshow": {
     "slide_type": "slide"
    }
   },
   "source": [
    "## 外部ファイルの読み込み"
   ]
  },
  {
   "cell_type": "markdown",
   "metadata": {},
   "source": [
    "このようなファイルがあるとする\n",
    "\n",
    "```\n",
    "# app.py\n",
    "print(\"hello\")\n",
    "```\n",
    "\n",
    "`%load app.py` を実行すると、下のセルの結果になる。\n",
    "* スニペットを蓄積して利用？"
   ]
  },
  {
   "cell_type": "code",
   "execution_count": null,
   "metadata": {
    "collapsed": true
   },
   "outputs": [],
   "source": [
    "# %load app.py\n",
    "print(\"hello\")"
   ]
  }
 ],
 "metadata": {
  "kernelspec": {
   "display_name": "Python 3",
   "language": "python",
   "name": "python3"
  },
  "language_info": {
   "codemirror_mode": {
    "name": "ipython",
    "version": 3
   },
   "file_extension": ".py",
   "mimetype": "text/x-python",
   "name": "python",
   "nbconvert_exporter": "python",
   "pygments_lexer": "ipython3",
   "version": "3.6.1"
  }
 },
 "nbformat": 4,
 "nbformat_minor": 2
}
