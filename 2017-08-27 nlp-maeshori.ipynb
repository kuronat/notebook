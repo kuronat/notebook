{
 "cells": [
  {
   "cell_type": "markdown",
   "metadata": {},
   "source": [
    "# 自然言語処理における前処理\n",
    "* 機械学習モデルに食わせる以前の前処理について\n",
    "* http://haya14busa.com/python-nltk-natural-language-processing/"
   ]
  },
  {
   "cell_type": "markdown",
   "metadata": {},
   "source": [
    "# nltk\n",
    "* 定番ライブラリ"
   ]
  },
  {
   "cell_type": "code",
   "execution_count": 2,
   "metadata": {},
   "outputs": [
    {
     "name": "stdout",
     "output_type": "stream",
     "text": [
      "Requirement already satisfied: nltk in /Users/seniorius/.pyenv/versions/anaconda3-4.4.0/lib/python3.6/site-packages\r\n",
      "Requirement already satisfied: six in /Users/seniorius/.pyenv/versions/anaconda3-4.4.0/lib/python3.6/site-packages (from nltk)\r\n"
     ]
    }
   ],
   "source": [
    "! pip install nltk"
   ]
  },
  {
   "cell_type": "markdown",
   "metadata": {},
   "source": [
    "# see\n",
    "* オブジェクトが反応できる関数を列挙するライブラリ"
   ]
  },
  {
   "cell_type": "code",
   "execution_count": 9,
   "metadata": {
    "scrolled": true
   },
   "outputs": [
    {
     "name": "stdout",
     "output_type": "stream",
     "text": [
      "Collecting see\n",
      "  Downloading see-1.4.0-py2.py3-none-any.whl\n",
      "Installing collected packages: see\n",
      "Successfully installed see-1.4.0\n"
     ]
    }
   ],
   "source": [
    "! pip install see"
   ]
  },
  {
   "cell_type": "code",
   "execution_count": 14,
   "metadata": {},
   "outputs": [
    {
     "data": {
      "text/plain": [
       "     ismodule               help()                 .ISRIStemmer()\n",
       "     .LancasterStemmer()    .PorterStemmer()       .RSLPStemmer()\n",
       "     .RegexpStemmer()       .SnowballStemmer()     .StemmerI()\n",
       "     .WordNetLemmatizer()                          .api\n",
       "     .isri                  .lancaster             .porter\n",
       "     .regexp                .rslp                  .snowball\n",
       "     .util                  .wordnet"
      ]
     },
     "execution_count": 14,
     "metadata": {},
     "output_type": "execute_result"
    }
   ],
   "source": [
    "see(stem)"
   ]
  },
  {
   "cell_type": "markdown",
   "metadata": {},
   "source": [
    "# code"
   ]
  },
  {
   "cell_type": "code",
   "execution_count": 20,
   "metadata": {
    "collapsed": true
   },
   "outputs": [],
   "source": [
    "from nltk import stem\n",
    "from nltk import tokenize\n",
    "from nltk.corpus import stopwords\n",
    "from see import see"
   ]
  },
  {
   "cell_type": "markdown",
   "metadata": {},
   "source": [
    "ステミング"
   ]
  },
  {
   "cell_type": "code",
   "execution_count": 30,
   "metadata": {},
   "outputs": [
    {
     "data": {
      "text/plain": [
       "'dialog'"
      ]
     },
     "execution_count": 30,
     "metadata": {},
     "output_type": "execute_result"
    }
   ],
   "source": [
    "stemmer = stem.LancasterStemmer()\n",
    "stemmer.stem('dialogue')"
   ]
  },
  {
   "cell_type": "markdown",
   "metadata": {},
   "source": [
    "トークナイゼーション"
   ]
  },
  {
   "cell_type": "code",
   "execution_count": 31,
   "metadata": {},
   "outputs": [
    {
     "data": {
      "text/plain": [
       "['hello', 'world', '!']"
      ]
     },
     "execution_count": 31,
     "metadata": {},
     "output_type": "execute_result"
    }
   ],
   "source": [
    "tokenize.word_tokenize(\"hello world!\")"
   ]
  },
  {
   "cell_type": "markdown",
   "metadata": {},
   "source": [
    "ストップワード"
   ]
  },
  {
   "cell_type": "code",
   "execution_count": 33,
   "metadata": {},
   "outputs": [
    {
     "data": {
      "text/plain": [
       "['i', 'me', 'my', 'myself', 'we']"
      ]
     },
     "execution_count": 33,
     "metadata": {},
     "output_type": "execute_result"
    }
   ],
   "source": [
    "stopset = set(stopwords.words('english'))\n",
    "stopwords.words('english')[0:5]"
   ]
  },
  {
   "cell_type": "markdown",
   "metadata": {},
   "source": [
    "# example"
   ]
  },
  {
   "cell_type": "code",
   "execution_count": 13,
   "metadata": {
    "collapsed": true
   },
   "outputs": [],
   "source": [
    "s = 'He grinned and said, \"I make lots of money.  On weekdays I receive an average of 50 orders a day from all over the globe via the Internet.\"'"
   ]
  },
  {
   "cell_type": "code",
   "execution_count": 34,
   "metadata": {},
   "outputs": [
    {
     "data": {
      "text/plain": [
       "['grin',\n",
       " 'said',\n",
       " 'mak',\n",
       " 'lot',\n",
       " 'money',\n",
       " 'weekday',\n",
       " 'receiv',\n",
       " 'av',\n",
       " 'ord',\n",
       " 'day',\n",
       " 'glob',\n",
       " 'via',\n",
       " 'internet']"
      ]
     },
     "execution_count": 34,
     "metadata": {},
     "output_type": "execute_result"
    }
   ],
   "source": [
    "[ stemmer.stem(w) for w in tokenize.word_tokenize(s.lower())\n",
    "      if w not in stopset and len(w) >= 3  ]"
   ]
  }
 ],
 "metadata": {
  "kernelspec": {
   "display_name": "Python 3",
   "language": "python",
   "name": "python3"
  },
  "language_info": {
   "codemirror_mode": {
    "name": "ipython",
    "version": 3
   },
   "file_extension": ".py",
   "mimetype": "text/x-python",
   "name": "python",
   "nbconvert_exporter": "python",
   "pygments_lexer": "ipython3",
   "version": "3.6.1"
  }
 },
 "nbformat": 4,
 "nbformat_minor": 2
}
