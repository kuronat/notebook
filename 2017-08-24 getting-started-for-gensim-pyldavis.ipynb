{
 "cells": [
  {
   "cell_type": "markdown",
   "metadata": {},
   "source": [
    "# gensimでLDA + pyLDAvisで可視化\n",
    "* https://radimrehurek.com/gensim/tut1.html をなぞっただけ"
   ]
  },
  {
   "cell_type": "code",
   "execution_count": 1,
   "metadata": {
    "collapsed": true
   },
   "outputs": [],
   "source": [
    "import warnings\n",
    "warnings.filterwarnings('ignore')"
   ]
  },
  {
   "cell_type": "markdown",
   "metadata": {},
   "source": [
    "# 前処理"
   ]
  },
  {
   "cell_type": "code",
   "execution_count": 2,
   "metadata": {
    "collapsed": true
   },
   "outputs": [],
   "source": [
    "#### () => texts: データを用意する"
   ]
  },
  {
   "cell_type": "code",
   "execution_count": 3,
   "metadata": {
    "collapsed": true
   },
   "outputs": [],
   "source": [
    "documents = [\n",
    "    \"Human machine interface for lab abc computer applications\",\n",
    "    \"A survey of user opinion of computer system response time\",\n",
    "    \"The EPS user interface management system\",\n",
    "    \"System and human system engineering testing of EPS\",\n",
    "    \"Relation of user perceived response time to error measurement\",\n",
    "    \"The generation of random binary unordered trees\",\n",
    "    \"The intersection graph of paths in trees\",\n",
    "    \"Graph minors IV Widths of trees and well quasi ordering\",\n",
    "    \"Graph minors A survey\"\n",
    "]"
   ]
  },
  {
   "cell_type": "code",
   "execution_count": 4,
   "metadata": {},
   "outputs": [
    {
     "data": {
      "text/plain": [
       "{'a', 'and', 'for', 'in', 'of', 'the', 'to'}"
      ]
     },
     "execution_count": 4,
     "metadata": {},
     "output_type": "execute_result"
    }
   ],
   "source": [
    "stop_words = set('for a of the and to in'.split())\n",
    "stop_words # この単語集合は、ストップワードとしてフィルタする"
   ]
  },
  {
   "cell_type": "code",
   "execution_count": 5,
   "metadata": {},
   "outputs": [],
   "source": [
    "texts = [\n",
    "    [word for word in document.lower().split() \n",
    "     if word not in stop_words] \n",
    "    for document in documents\n",
    "]"
   ]
  },
  {
   "cell_type": "code",
   "execution_count": 6,
   "metadata": {},
   "outputs": [
    {
     "data": {
      "text/plain": [
       "[['human', 'machine', 'interface', 'lab', 'abc', 'computer', 'applications'],\n",
       " ['survey', 'user', 'opinion', 'computer', 'system', 'response', 'time'],\n",
       " ['eps', 'user', 'interface', 'management', 'system'],\n",
       " ['system', 'human', 'system', 'engineering', 'testing', 'eps'],\n",
       " ['relation', 'user', 'perceived', 'response', 'time', 'error', 'measurement'],\n",
       " ['generation', 'random', 'binary', 'unordered', 'trees'],\n",
       " ['intersection', 'graph', 'paths', 'trees'],\n",
       " ['graph', 'minors', 'iv', 'widths', 'trees', 'well', 'quasi', 'ordering'],\n",
       " ['graph', 'minors', 'survey']]"
      ]
     },
     "execution_count": 6,
     "metadata": {},
     "output_type": "execute_result"
    }
   ],
   "source": [
    "texts"
   ]
  },
  {
   "cell_type": "code",
   "execution_count": 7,
   "metadata": {
    "collapsed": true
   },
   "outputs": [],
   "source": [
    "# ここでさらに、不要な単語(1回しか出ないためモデリングに使えない単語)をフィルタする"
   ]
  },
  {
   "cell_type": "code",
   "execution_count": 8,
   "metadata": {
    "collapsed": true
   },
   "outputs": [],
   "source": [
    "from collections import defaultdict\n",
    "frequency = defaultdict(int)\n",
    "for text in texts:\n",
    "    for token in text:\n",
    "        frequency[token] += 1"
   ]
  },
  {
   "cell_type": "code",
   "execution_count": 9,
   "metadata": {},
   "outputs": [
    {
     "data": {
      "text/plain": [
       "defaultdict(int,\n",
       "            {'abc': 1,\n",
       "             'applications': 1,\n",
       "             'binary': 1,\n",
       "             'computer': 2,\n",
       "             'engineering': 1,\n",
       "             'eps': 2,\n",
       "             'error': 1,\n",
       "             'generation': 1,\n",
       "             'graph': 3,\n",
       "             'human': 2,\n",
       "             'interface': 2,\n",
       "             'intersection': 1,\n",
       "             'iv': 1,\n",
       "             'lab': 1,\n",
       "             'machine': 1,\n",
       "             'management': 1,\n",
       "             'measurement': 1,\n",
       "             'minors': 2,\n",
       "             'opinion': 1,\n",
       "             'ordering': 1,\n",
       "             'paths': 1,\n",
       "             'perceived': 1,\n",
       "             'quasi': 1,\n",
       "             'random': 1,\n",
       "             'relation': 1,\n",
       "             'response': 2,\n",
       "             'survey': 2,\n",
       "             'system': 4,\n",
       "             'testing': 1,\n",
       "             'time': 2,\n",
       "             'trees': 3,\n",
       "             'unordered': 1,\n",
       "             'user': 3,\n",
       "             'well': 1,\n",
       "             'widths': 1})"
      ]
     },
     "execution_count": 9,
     "metadata": {},
     "output_type": "execute_result"
    }
   ],
   "source": [
    "frequency"
   ]
  },
  {
   "cell_type": "code",
   "execution_count": 10,
   "metadata": {
    "collapsed": true
   },
   "outputs": [],
   "source": [
    "texts = [\n",
    "    [token for token in text if frequency[token] > 1]\n",
    "    for text in texts\n",
    "]"
   ]
  },
  {
   "cell_type": "code",
   "execution_count": 11,
   "metadata": {},
   "outputs": [
    {
     "data": {
      "text/plain": [
       "[['human', 'interface', 'computer'],\n",
       " ['survey', 'user', 'computer', 'system', 'response', 'time'],\n",
       " ['eps', 'user', 'interface', 'system'],\n",
       " ['system', 'human', 'system', 'eps'],\n",
       " ['user', 'response', 'time'],\n",
       " ['trees'],\n",
       " ['graph', 'trees'],\n",
       " ['graph', 'minors', 'trees'],\n",
       " ['graph', 'minors', 'survey']]"
      ]
     },
     "execution_count": 11,
     "metadata": {},
     "output_type": "execute_result"
    }
   ],
   "source": [
    "# 完成\n",
    "texts"
   ]
  },
  {
   "cell_type": "markdown",
   "metadata": {},
   "source": [
    "# モデリング"
   ]
  },
  {
   "cell_type": "code",
   "execution_count": 12,
   "metadata": {
    "collapsed": true
   },
   "outputs": [],
   "source": [
    "#### texts => Gensim: LDAを回す"
   ]
  },
  {
   "cell_type": "code",
   "execution_count": 13,
   "metadata": {},
   "outputs": [
    {
     "name": "stderr",
     "output_type": "stream",
     "text": [
      "Using TensorFlow backend.\n"
     ]
    }
   ],
   "source": [
    "import gensim\n",
    "from gensim import corpora"
   ]
  },
  {
   "cell_type": "code",
   "execution_count": 14,
   "metadata": {
    "scrolled": true
   },
   "outputs": [],
   "source": [
    "dictionary = corpora.Dictionary(texts)\n",
    "corpus = [dictionary.doc2bow(text) for text in texts]"
   ]
  },
  {
   "cell_type": "code",
   "execution_count": 15,
   "metadata": {},
   "outputs": [
    {
     "data": {
      "text/plain": [
       "<gensim.corpora.dictionary.Dictionary at 0x129b2c6d8>"
      ]
     },
     "execution_count": 15,
     "metadata": {},
     "output_type": "execute_result"
    }
   ],
   "source": [
    "dictionary"
   ]
  },
  {
   "cell_type": "code",
   "execution_count": 16,
   "metadata": {},
   "outputs": [
    {
     "data": {
      "text/plain": [
       "[[(0, 1), (1, 1), (2, 1)],\n",
       " [(2, 1), (3, 1), (4, 1), (5, 1), (6, 1), (7, 1)],\n",
       " [(1, 1), (4, 1), (5, 1), (8, 1)],\n",
       " [(0, 1), (5, 2), (8, 1)],\n",
       " [(4, 1), (6, 1), (7, 1)],\n",
       " [(9, 1)],\n",
       " [(9, 1), (10, 1)],\n",
       " [(9, 1), (10, 1), (11, 1)],\n",
       " [(3, 1), (10, 1), (11, 1)]]"
      ]
     },
     "execution_count": 16,
     "metadata": {},
     "output_type": "execute_result"
    }
   ],
   "source": [
    "corpus"
   ]
  },
  {
   "cell_type": "code",
   "execution_count": 17,
   "metadata": {
    "collapsed": true
   },
   "outputs": [],
   "source": [
    "# 回す\n",
    "lda = gensim.models.ldamodel.LdaModel(\n",
    "    corpus=corpus, num_topics=5, id2word=dictionary\n",
    ")"
   ]
  },
  {
   "cell_type": "code",
   "execution_count": 18,
   "metadata": {},
   "outputs": [
    {
     "data": {
      "text/plain": [
       "[(0,\n",
       "  '0.187*\"user\" + 0.186*\"eps\" + 0.186*\"system\" + 0.186*\"interface\" + 0.032*\"trees\" + 0.032*\"graph\" + 0.032*\"minors\" + 0.032*\"human\" + 0.032*\"survey\" + 0.032*\"time\"'),\n",
       " (1,\n",
       "  '0.279*\"trees\" + 0.193*\"graph\" + 0.105*\"computer\" + 0.105*\"human\" + 0.105*\"interface\" + 0.105*\"minors\" + 0.018*\"user\" + 0.018*\"system\" + 0.018*\"time\" + 0.018*\"survey\"'),\n",
       " (2,\n",
       "  '0.143*\"system\" + 0.142*\"user\" + 0.142*\"time\" + 0.142*\"computer\" + 0.142*\"response\" + 0.142*\"survey\" + 0.025*\"trees\" + 0.024*\"graph\" + 0.024*\"minors\" + 0.024*\"human\"'),\n",
       " (3,\n",
       "  '0.234*\"system\" + 0.127*\"graph\" + 0.127*\"eps\" + 0.127*\"human\" + 0.127*\"survey\" + 0.127*\"minors\" + 0.022*\"trees\" + 0.022*\"user\" + 0.022*\"interface\" + 0.022*\"computer\"'),\n",
       " (4,\n",
       "  '0.220*\"response\" + 0.220*\"user\" + 0.220*\"time\" + 0.039*\"trees\" + 0.038*\"graph\" + 0.038*\"interface\" + 0.038*\"system\" + 0.038*\"minors\" + 0.037*\"human\" + 0.037*\"computer\"')]"
      ]
     },
     "execution_count": 18,
     "metadata": {},
     "output_type": "execute_result"
    }
   ],
   "source": [
    "# 結果\n",
    "lda.show_topics()"
   ]
  },
  {
   "cell_type": "markdown",
   "metadata": {},
   "source": [
    "# 可視化"
   ]
  },
  {
   "cell_type": "code",
   "execution_count": 19,
   "metadata": {
    "collapsed": true
   },
   "outputs": [],
   "source": [
    "#### Gensim => pyLDAvis: LDA結果を可視化する"
   ]
  },
  {
   "cell_type": "code",
   "execution_count": 20,
   "metadata": {},
   "outputs": [],
   "source": [
    "import pyLDAvis.gensim as gensimvis\n",
    "import pyLDAvis"
   ]
  },
  {
   "cell_type": "code",
   "execution_count": 21,
   "metadata": {},
   "outputs": [
    {
     "name": "stderr",
     "output_type": "stream",
     "text": [
      "/Users/seniorius/.pyenv/versions/anaconda3-4.4.0/lib/python3.6/site-packages/pyLDAvis/_prepare.py:387: DeprecationWarning: \n",
      ".ix is deprecated. Please use\n",
      ".loc for label based indexing or\n",
      ".iloc for positional indexing\n",
      "\n",
      "See the documentation here:\n",
      "http://pandas.pydata.org/pandas-docs/stable/indexing.html#deprecate_ix\n",
      "  topic_term_dists = topic_term_dists.ix[topic_order]\n"
     ]
    },
    {
     "data": {
      "text/plain": [
       "PreparedData(topic_coordinates=            Freq  cluster  topics         x         y\n",
       "topic                                                \n",
       "1      26.392067        1       1  0.166317  0.078684\n",
       "3      23.357645        1       2  0.067641 -0.095940\n",
       "2      22.302992        1       3 -0.097687  0.001234\n",
       "0      15.614804        1       4 -0.028530 -0.059971\n",
       "4      12.332492        1       5 -0.107740  0.075993, topic_info=     Category      Freq       Term     Total  loglift  logprob\n",
       "term                                                          \n",
       "4     Default  2.000000       user  2.000000  12.0000  12.0000\n",
       "6     Default  2.000000   response  2.000000  11.0000  11.0000\n",
       "7     Default  2.000000       time  2.000000  10.0000  10.0000\n",
       "9     Default  2.000000      trees  2.000000   9.0000   9.0000\n",
       "5     Default  3.000000     system  3.000000   8.0000   8.0000\n",
       "8     Default  2.000000        eps  2.000000   7.0000   7.0000\n",
       "1     Default  2.000000  interface  2.000000   6.0000   6.0000\n",
       "10    Default  2.000000      graph  2.000000   5.0000   5.0000\n",
       "3     Default  2.000000     survey  2.000000   4.0000   4.0000\n",
       "2     Default  2.000000   computer  2.000000   3.0000   3.0000\n",
       "0     Default  2.000000      human  2.000000   2.0000   2.0000\n",
       "11    Default  2.000000     minors  2.000000   1.0000   1.0000\n",
       "9      Topic1  2.134623      trees  2.731319   1.0856  -1.2769\n",
       "10     Topic1  1.474401      graph  2.776914   0.6990  -1.6469\n",
       "1      Topic1  0.805041  interface  2.086052   0.3800  -2.2521\n",
       "0      Topic1  0.805255      human  2.101771   0.3727  -2.2518\n",
       "11     Topic1  0.804882     minors  2.101755   0.3723  -2.2522\n",
       "2      Topic1  0.805847   computer  2.148631   0.3514  -2.2511\n",
       "7      Topic1  0.137043       time  2.133728  -1.4132  -4.0226\n",
       "6      Topic1  0.136727   response  2.133544  -1.4154  -4.0250\n",
       "8      Topic1  0.136507        eps  2.131957  -1.4163  -4.0266\n",
       "3      Topic1  0.136963     survey  2.194477  -1.4419  -4.0232\n",
       "4      Topic1  0.138228       user  2.839025  -1.6902  -4.0140\n",
       "5      Topic1  0.138185     system  3.620827  -1.9338  -4.0144\n",
       "5      Topic2  1.581808     system  3.620827   0.6261  -1.4545\n",
       "0      Topic2  0.861848      human  2.101771   0.5628  -2.0617\n",
       "11     Topic2  0.860940     minors  2.101755   0.5617  -2.0628\n",
       "8      Topic2  0.862374        eps  2.131957   0.5491  -2.0611\n",
       "3      Topic2  0.861510     survey  2.194477   0.5192  -2.0621\n",
       "10     Topic2  0.863567      graph  2.776914   0.2862  -2.0597\n",
       "...       ...       ...        ...       ...      ...      ...\n",
       "1      Topic3  0.156189  interface  2.086052  -1.0915  -3.7235\n",
       "11     Topic3  0.156812     minors  2.101755  -1.0950  -3.7196\n",
       "0      Topic3  0.156555      human  2.101771  -1.0967  -3.7212\n",
       "8      Topic3  0.155591        eps  2.131957  -1.1171  -3.7274\n",
       "9      Topic3  0.160069      trees  2.731319  -1.3365  -3.6990\n",
       "10     Topic3  0.158398      graph  2.776914  -1.3635  -3.7095\n",
       "1      Topic4  0.843486  interface  2.086052   0.9515  -1.6806\n",
       "8      Topic4  0.843808        eps  2.131957   0.9301  -1.6802\n",
       "4      Topic4  0.844848       user  2.839025   0.6449  -1.6789\n",
       "5      Topic4  0.843589     system  3.620827   0.4002  -1.6804\n",
       "11     Topic4  0.144543     minors  2.101755  -0.8200  -3.4445\n",
       "0      Topic4  0.144026      human  2.101771  -0.8236  -3.4481\n",
       "7      Topic4  0.143054       time  2.133728  -0.8455  -3.4549\n",
       "6      Topic4  0.142728   response  2.133544  -0.8476  -3.4572\n",
       "2      Topic4  0.142799   computer  2.148631  -0.8542  -3.4567\n",
       "3      Topic4  0.143167     survey  2.194477  -0.8727  -3.4541\n",
       "9      Topic4  0.146779      trees  2.731319  -1.0667  -3.4292\n",
       "10     Topic4  0.145466      graph  2.776914  -1.0922  -3.4382\n",
       "6      Topic5  0.788527   response  2.133544   1.0976  -1.5120\n",
       "7      Topic5  0.786852       time  2.133728   1.0953  -1.5141\n",
       "4      Topic5  0.787048       user  2.839025   0.8100  -1.5138\n",
       "1      Topic5  0.135065  interface  2.086052  -0.6443  -3.2764\n",
       "11     Topic5  0.134578     minors  2.101755  -0.6555  -3.2800\n",
       "0      Topic5  0.134087      human  2.101771  -0.6591  -3.2836\n",
       "8      Topic5  0.133678        eps  2.131957  -0.6764  -3.2867\n",
       "2      Topic5  0.133765   computer  2.148631  -0.6836  -3.2860\n",
       "3      Topic5  0.133338     survey  2.194477  -0.7079  -3.2892\n",
       "9      Topic5  0.139575      trees  2.731319  -0.8810  -3.2435\n",
       "10     Topic5  0.135083      graph  2.776914  -0.9303  -3.2762\n",
       "5      Topic5  0.134827     system  3.620827  -1.1975  -3.2781\n",
       "\n",
       "[72 rows x 6 columns], token_table=      Topic      Freq       Term\n",
       "term                            \n",
       "2         1  0.465413   computer\n",
       "2         3  0.465413   computer\n",
       "8         2  0.469053        eps\n",
       "8         4  0.469053        eps\n",
       "10        1  0.360112      graph\n",
       "10        2  0.360112      graph\n",
       "0         1  0.475789      human\n",
       "0         2  0.475789      human\n",
       "1         1  0.479374  interface\n",
       "1         4  0.479374  interface\n",
       "11        1  0.475793     minors\n",
       "11        2  0.475793     minors\n",
       "6         3  0.468704   response\n",
       "6         5  0.468704   response\n",
       "3         2  0.455690     survey\n",
       "3         3  0.455690     survey\n",
       "5         2  0.552360     system\n",
       "5         3  0.276180     system\n",
       "5         4  0.276180     system\n",
       "7         3  0.468663       time\n",
       "7         5  0.468663       time\n",
       "9         1  0.732247      trees\n",
       "4         3  0.352234       user\n",
       "4         4  0.352234       user\n",
       "4         5  0.352234       user, R=12, lambda_step=0.01, plot_opts={'xlab': 'PC1', 'ylab': 'PC2'}, topic_order=[2, 4, 3, 1, 5])"
      ]
     },
     "execution_count": 21,
     "metadata": {},
     "output_type": "execute_result"
    }
   ],
   "source": [
    "# 回したデータを食わせる\n",
    "vis_data = gensimvis.prepare(lda, corpus, dictionary)\n",
    "vis_data"
   ]
  },
  {
   "cell_type": "code",
   "execution_count": 23,
   "metadata": {},
   "outputs": [
    {
     "data": {
      "text/html": [
       "\n",
       "<link rel=\"stylesheet\" type=\"text/css\" href=\"https://cdn.rawgit.com/bmabey/pyLDAvis/files/ldavis.v1.0.0.css\">\n",
       "\n",
       "\n",
       "<div id=\"ldavis_el1431250099682489011054737\"></div>\n",
       "<script type=\"text/javascript\">\n",
       "\n",
       "var ldavis_el1431250099682489011054737_data = {\"mdsDat\": {\"Freq\": [26.39206673050548, 23.35764491436846, 22.30299188039999, 15.614804172731505, 12.332492301994572], \"cluster\": [1, 1, 1, 1, 1], \"topics\": [1, 2, 3, 4, 5], \"x\": [0.16631668891946122, 0.0676408631735998, -0.09768694457935184, -0.028530239093322498, -0.10774036842038642], \"y\": [0.0786841729272369, -0.09593986522843338, 0.0012340380979125982, -0.05997095974120285, 0.0759926139444868]}, \"tinfo\": {\"Category\": [\"Default\", \"Default\", \"Default\", \"Default\", \"Default\", \"Default\", \"Default\", \"Default\", \"Default\", \"Default\", \"Default\", \"Default\", \"Topic1\", \"Topic1\", \"Topic1\", \"Topic1\", \"Topic1\", \"Topic1\", \"Topic1\", \"Topic1\", \"Topic1\", \"Topic1\", \"Topic1\", \"Topic1\", \"Topic2\", \"Topic2\", \"Topic2\", \"Topic2\", \"Topic2\", \"Topic2\", \"Topic2\", \"Topic2\", \"Topic2\", \"Topic2\", \"Topic2\", \"Topic2\", \"Topic3\", \"Topic3\", \"Topic3\", \"Topic3\", \"Topic3\", \"Topic3\", \"Topic3\", \"Topic3\", \"Topic3\", \"Topic3\", \"Topic3\", \"Topic3\", \"Topic4\", \"Topic4\", \"Topic4\", \"Topic4\", \"Topic4\", \"Topic4\", \"Topic4\", \"Topic4\", \"Topic4\", \"Topic4\", \"Topic4\", \"Topic4\", \"Topic5\", \"Topic5\", \"Topic5\", \"Topic5\", \"Topic5\", \"Topic5\", \"Topic5\", \"Topic5\", \"Topic5\", \"Topic5\", \"Topic5\", \"Topic5\"], \"Freq\": [2.0, 2.0, 2.0, 2.0, 3.0, 2.0, 2.0, 2.0, 2.0, 2.0, 2.0, 2.0, 2.1346226688257923, 1.4744009449702662, 0.8050408588156046, 0.8052545844755079, 0.8048816818459137, 0.8058465054884678, 0.13704300808059608, 0.13672707480129057, 0.1365067305900186, 0.13696278326605957, 0.13822791649887498, 0.1381845941881967, 1.5818075345040148, 0.8618481224052555, 0.8609399460363057, 0.8623739597044422, 0.8615099614986254, 0.8635667470757435, 0.14627052165345794, 0.14596451272652933, 0.14567948988034238, 0.1462287457237926, 0.1502734030404184, 0.14725408091792494, 0.9208140303366296, 0.9198823115717248, 0.9199921640771419, 0.9194990817540402, 0.9216472087918697, 0.9224186570189629, 0.15618926967620458, 0.15681234916330258, 0.15655475492312076, 0.15559068314366262, 0.16006878444070194, 0.15839835041863448, 0.8434863736092487, 0.8438079420105068, 0.844848069582102, 0.8435889769776297, 0.1445429134380809, 0.14402607963653893, 0.14305424569392472, 0.14272789975553313, 0.1427992442587633, 0.14316694321311463, 0.14677882222566116, 0.14546569969103224, 0.7885271219732579, 0.7868522216377628, 0.7870478748744635, 0.13506510868630553, 0.13457797535669294, 0.13408718297113162, 0.13367817982990773, 0.1337645684229005, 0.13333785261750308, 0.13957512278385595, 0.13508250545850514, 0.13482705296613842], \"Term\": [\"user\", \"response\", \"time\", \"trees\", \"system\", \"eps\", \"interface\", \"graph\", \"survey\", \"computer\", \"human\", \"minors\", \"trees\", \"graph\", \"interface\", \"human\", \"minors\", \"computer\", \"time\", \"response\", \"eps\", \"survey\", \"user\", \"system\", \"system\", \"human\", \"minors\", \"eps\", \"survey\", \"graph\", \"interface\", \"time\", \"response\", \"computer\", \"trees\", \"user\", \"time\", \"response\", \"computer\", \"survey\", \"user\", \"system\", \"interface\", \"minors\", \"human\", \"eps\", \"trees\", \"graph\", \"interface\", \"eps\", \"user\", \"system\", \"minors\", \"human\", \"time\", \"response\", \"computer\", \"survey\", \"trees\", \"graph\", \"response\", \"time\", \"user\", \"interface\", \"minors\", \"human\", \"eps\", \"computer\", \"survey\", \"trees\", \"graph\", \"system\"], \"Total\": [2.0, 2.0, 2.0, 2.0, 3.0, 2.0, 2.0, 2.0, 2.0, 2.0, 2.0, 2.0, 2.7313188013164296, 2.7769142476141817, 2.0860521324408214, 2.101770724411555, 2.101754865840296, 2.148631227971066, 2.1337280184754426, 2.1335438979821486, 2.1319574952785376, 2.1944766223493426, 2.839025150665235, 3.620826815654943, 3.620826815654943, 2.101770724411555, 2.101754865840296, 2.1319574952785376, 2.1944766223493426, 2.7769142476141817, 2.0860521324408214, 2.1337280184754426, 2.1335438979821486, 2.148631227971066, 2.7313188013164296, 2.839025150665235, 2.1337280184754426, 2.1335438979821486, 2.148631227971066, 2.1944766223493426, 2.839025150665235, 3.620826815654943, 2.0860521324408214, 2.101754865840296, 2.101770724411555, 2.1319574952785376, 2.7313188013164296, 2.7769142476141817, 2.0860521324408214, 2.1319574952785376, 2.839025150665235, 3.620826815654943, 2.101754865840296, 2.101770724411555, 2.1337280184754426, 2.1335438979821486, 2.148631227971066, 2.1944766223493426, 2.7313188013164296, 2.7769142476141817, 2.1335438979821486, 2.1337280184754426, 2.839025150665235, 2.0860521324408214, 2.101754865840296, 2.101770724411555, 2.1319574952785376, 2.148631227971066, 2.1944766223493426, 2.7313188013164296, 2.7769142476141817, 3.620826815654943], \"loglift\": [12.0, 11.0, 10.0, 9.0, 8.0, 7.0, 6.0, 5.0, 4.0, 3.0, 2.0, 1.0, 1.0856, 0.699, 0.38, 0.3727, 0.3723, 0.3514, -1.4132, -1.4154, -1.4163, -1.4419, -1.6902, -1.9338, 0.6261, 0.5628, 0.5617, 0.5491, 0.5192, 0.2862, -1.2033, -1.228, -1.2299, -1.2332, -1.4458, -1.5048, 0.6601, 0.6592, 0.6522, 0.6306, 0.3754, 0.133, -1.0915, -1.095, -1.0967, -1.1171, -1.3365, -1.3635, 0.9515, 0.9301, 0.6449, 0.4002, -0.82, -0.8236, -0.8455, -0.8476, -0.8542, -0.8727, -1.0667, -1.0922, 1.0976, 1.0953, 0.81, -0.6443, -0.6555, -0.6591, -0.6764, -0.6836, -0.7079, -0.881, -0.9303, -1.1975], \"logprob\": [12.0, 11.0, 10.0, 9.0, 8.0, 7.0, 6.0, 5.0, 4.0, 3.0, 2.0, 1.0, -1.2769, -1.6469, -2.2521, -2.2518, -2.2522, -2.2511, -4.0226, -4.025, -4.0266, -4.0232, -4.014, -4.0144, -1.4545, -2.0617, -2.0628, -2.0611, -2.0621, -2.0597, -3.8353, -3.8374, -3.8394, -3.8356, -3.8083, -3.8286, -1.9493, -1.9504, -1.9502, -1.9508, -1.9484, -1.9476, -3.7235, -3.7196, -3.7212, -3.7274, -3.699, -3.7095, -1.6806, -1.6802, -1.6789, -1.6804, -3.4445, -3.4481, -3.4549, -3.4572, -3.4567, -3.4541, -3.4292, -3.4382, -1.512, -1.5141, -1.5138, -3.2764, -3.28, -3.2836, -3.2867, -3.286, -3.2892, -3.2435, -3.2762, -3.2781]}, \"token.table\": {\"Topic\": [1, 3, 2, 4, 1, 2, 1, 2, 1, 4, 1, 2, 3, 5, 2, 3, 2, 3, 4, 3, 5, 1, 3, 4, 5], \"Freq\": [0.4654125784741067, 0.4654125784741067, 0.46905250325797476, 0.46905250325797476, 0.36011194831066956, 0.36011194831066956, 0.47578928966192346, 0.47578928966192346, 0.47937440510172324, 0.47937440510172324, 0.47579287968018724, 0.47579287968018724, 0.46870373791969994, 0.46870373791969994, 0.45568952059713863, 0.45568952059713863, 0.5523600276469549, 0.27618001382347745, 0.27618001382347745, 0.4686632932319575, 0.4686632932319575, 0.7322470006196451, 0.35223358263158816, 0.35223358263158816, 0.35223358263158816], \"Term\": [\"computer\", \"computer\", \"eps\", \"eps\", \"graph\", \"graph\", \"human\", \"human\", \"interface\", \"interface\", \"minors\", \"minors\", \"response\", \"response\", \"survey\", \"survey\", \"system\", \"system\", \"system\", \"time\", \"time\", \"trees\", \"user\", \"user\", \"user\"]}, \"R\": 12, \"lambda.step\": 0.01, \"plot.opts\": {\"xlab\": \"PC1\", \"ylab\": \"PC2\"}, \"topic.order\": [2, 4, 3, 1, 5]};\n",
       "\n",
       "function LDAvis_load_lib(url, callback){\n",
       "  var s = document.createElement('script');\n",
       "  s.src = url;\n",
       "  s.async = true;\n",
       "  s.onreadystatechange = s.onload = callback;\n",
       "  s.onerror = function(){console.warn(\"failed to load library \" + url);};\n",
       "  document.getElementsByTagName(\"head\")[0].appendChild(s);\n",
       "}\n",
       "\n",
       "if(typeof(LDAvis) !== \"undefined\"){\n",
       "   // already loaded: just create the visualization\n",
       "   !function(LDAvis){\n",
       "       new LDAvis(\"#\" + \"ldavis_el1431250099682489011054737\", ldavis_el1431250099682489011054737_data);\n",
       "   }(LDAvis);\n",
       "}else if(typeof define === \"function\" && define.amd){\n",
       "   // require.js is available: use it to load d3/LDAvis\n",
       "   require.config({paths: {d3: \"https://cdnjs.cloudflare.com/ajax/libs/d3/3.5.5/d3.min\"}});\n",
       "   require([\"d3\"], function(d3){\n",
       "      window.d3 = d3;\n",
       "      LDAvis_load_lib(\"https://cdn.rawgit.com/bmabey/pyLDAvis/files/ldavis.v1.0.0.js\", function(){\n",
       "        new LDAvis(\"#\" + \"ldavis_el1431250099682489011054737\", ldavis_el1431250099682489011054737_data);\n",
       "      });\n",
       "    });\n",
       "}else{\n",
       "    // require.js not available: dynamically load d3 & LDAvis\n",
       "    LDAvis_load_lib(\"https://cdnjs.cloudflare.com/ajax/libs/d3/3.5.5/d3.min.js\", function(){\n",
       "         LDAvis_load_lib(\"https://cdn.rawgit.com/bmabey/pyLDAvis/files/ldavis.v1.0.0.js\", function(){\n",
       "                 new LDAvis(\"#\" + \"ldavis_el1431250099682489011054737\", ldavis_el1431250099682489011054737_data);\n",
       "            })\n",
       "         });\n",
       "}\n",
       "</script>"
      ],
      "text/plain": [
       "<IPython.core.display.HTML object>"
      ]
     },
     "execution_count": 23,
     "metadata": {},
     "output_type": "execute_result"
    }
   ],
   "source": [
    "# 可視化実行\n",
    "pyLDAvis.display(vis_data)"
   ]
  }
 ],
 "metadata": {
  "kernelspec": {
   "display_name": "Python 3",
   "language": "python",
   "name": "python3"
  },
  "language_info": {
   "codemirror_mode": {
    "name": "ipython",
    "version": 3
   },
   "file_extension": ".py",
   "mimetype": "text/x-python",
   "name": "python",
   "nbconvert_exporter": "python",
   "pygments_lexer": "ipython3",
   "version": "3.6.1"
  }
 },
 "nbformat": 4,
 "nbformat_minor": 2
}
