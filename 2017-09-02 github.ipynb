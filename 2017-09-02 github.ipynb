{
 "cells": [
  {
   "cell_type": "markdown",
   "metadata": {},
   "source": [
    "# GitHub実践入門"
   ]
  },
  {
   "cell_type": "markdown",
   "metadata": {},
   "source": [
    "* 雰囲気だけでGitHubを使うのは良くないのであらためて勉強する"
   ]
  },
  {
   "cell_type": "markdown",
   "metadata": {},
   "source": [
    "## 基本"
   ]
  },
  {
   "cell_type": "code",
   "execution_count": null,
   "metadata": {
    "collapsed": true
   },
   "outputs": [],
   "source": [
    "git init\n",
    "git add <files or directries>\n",
    "git commit -m <commit message>\n",
    "git status"
   ]
  },
  {
   "cell_type": "code",
   "execution_count": 3,
   "metadata": {
    "scrolled": false
   },
   "outputs": [
    {
     "name": "stdout",
     "output_type": "stream",
     "text": [
      "On branch master\n",
      "Untracked files:\n",
      "  (use \"git add <file>...\" to include in what will be committed)\n",
      "\n",
      "\t\u001b[31m2017-09-02 github.ipynb\u001b[m\n",
      "\n",
      "nothing added to commit but untracked files present (use \"git add\" to track)\n"
     ]
    }
   ],
   "source": [
    "# リポジトリの概要を把握する\n",
    "git status"
   ]
  },
  {
   "cell_type": "markdown",
   "metadata": {},
   "source": [
    "## コミットログ"
   ]
  },
  {
   "cell_type": "code",
   "execution_count": 7,
   "metadata": {
    "scrolled": false
   },
   "outputs": [
    {
     "name": "stdout",
     "output_type": "stream",
     "text": [
      "commit 05921b7061615f1762bb698f765b9ff0d2f34466\n",
      "Author: kuronat <kuronatt@outlook.jp>\n",
      "Date:   Thu Aug 31 14:07:38 2017 +0900\n",
      "\n",
      "    update\n",
      "\n",
      "commit 453ff6ee3d95a69a6104b7f10a269ef1022a772c\n",
      "Author: kuronat <kuronatt@outlook.jp>\n",
      "Date:   Sun Aug 27 20:55:28 2017 +0900\n",
      "\n",
      "    update\n",
      "\n"
     ]
    }
   ],
   "source": [
    "# コミットログを閲覧する\n",
    "git log | head -n 12"
   ]
  },
  {
   "cell_type": "code",
   "execution_count": 11,
   "metadata": {},
   "outputs": [
    {
     "name": "stdout",
     "output_type": "stream",
     "text": [
      "\u001b[33mcommit 585f648137c02f6e98febbd4c20df84ede6b015e\u001b[m\n",
      "Author: kuronat <kuronatt@outlook.jp>\n",
      "Date:   Wed Aug 23 11:35:06 2017 +0900\n",
      "\n",
      "    update\n"
     ]
    }
   ],
   "source": [
    "# あるファイルに関係するコミットログを閲覧する\n",
    "git log ./readme.md "
   ]
  },
  {
   "cell_type": "code",
   "execution_count": 15,
   "metadata": {},
   "outputs": [
    {
     "name": "stdout",
     "output_type": "stream",
     "text": [
      "commit 05921b7061615f1762bb698f765b9ff0d2f34466\n",
      "Author: kuronat <kuronatt@outlook.jp>\n",
      "Date:   Thu Aug 31 14:07:38 2017 +0900\n",
      "\n",
      "    update\n",
      "\n",
      "diff --git a/2017-08-25-r-juypter.ipynb b/2017-08-25 r-juypter.ipynb\n",
      "similarity index 100%\n",
      "rename from 2017-08-25-r-juypter.ipynb\n",
      "rename to 2017-08-25 r-juypter.ipynb\n",
      "diff --git a/2017-08-27 nlp-hitting 010-019.ipynb b/2017-08-27 nlp-hitting 010-019.ipynb\n",
      "index ac01d7b..7895a2b 100644\n",
      "--- a/2017-08-27 nlp-hitting 010-019.ipynb\t\n",
      "+++ b/2017-08-27 nlp-hitting 010-019.ipynb\t\n",
      "@@ -1,15 +1,319 @@\n",
      " {\n",
      "  \"cells\": [\n",
      "   {\n",
      "+   \"cell_type\": \"markdown\",\n",
      "+   \"metadata\": {\n",
      "+    \"collapsed\": true\n",
      "+   },\n",
      "+   \"source\": [\n",
      "+    \"やりかけ\\n\",\n",
      "+    \"\\n\",\n",
      "+    \"* http://www.cl.ecei.tohoku.ac.jp/nlp100/\\n\",\n",
      "+    \"* UNIXコマンドが中心です\"\n",
      "+   ]\n",
      "+  },\n",
      "+  {\n"
     ]
    }
   ],
   "source": [
    "git log -p | head -n 30"
   ]
  },
  {
   "cell_type": "markdown",
   "metadata": {},
   "source": [
    "* git log を使いこなすためにlessの操作方法を覚えておくとよい\n",
    "* たとえば /^commit するとコミットログを追いかけるのが多少楽になる\n",
    "* なお古いバージョンのlessでは正規表現がうまく動かないので brew install less する"
   ]
  },
  {
   "cell_type": "markdown",
   "metadata": {},
   "source": [
    "## ブランチ\n",
    "* なぜブランチが必要なのか\n",
    "  + 別々の作業を並行して行いたいから\n",
    "  + 最新のコードの状態が複数あるような状態にしたいから"
   ]
  },
  {
   "cell_type": "code",
   "execution_count": 1,
   "metadata": {},
   "outputs": [
    {
     "name": "stdout",
     "output_type": "stream",
     "text": [
      "* \u001b[32mmaster\u001b[m\n"
     ]
    }
   ],
   "source": [
    "git branch"
   ]
  },
  {
   "cell_type": "code",
   "execution_count": 17,
   "metadata": {
    "scrolled": false
   },
   "outputs": [
    {
     "name": "stdout",
     "output_type": "stream",
     "text": [
      "usage: git checkout [<options>] <branch>\n",
      "   or: git checkout [<options>] [<branch>] -- <file>...\n",
      "\n",
      "    -q, --quiet           suppress progress reporting\n",
      "    -b <branch>           create and checkout a new branch\n",
      "    -B <branch>           create/reset and checkout a branch\n",
      "    -l                    create reflog for new branch\n",
      "    --detach              detach HEAD at named commit\n",
      "    -t, --track           set upstream info for new branch\n",
      "    --orphan <new-branch>\n",
      "                          new unparented branch\n",
      "    -2, --ours            checkout our version for unmerged files\n",
      "    -3, --theirs          checkout their version for unmerged files\n",
      "    -f, --force           force checkout (throw away local modifications)\n",
      "    -m, --merge           perform a 3-way merge with the new branch\n",
      "    --overwrite-ignore    update ignored files (default)\n",
      "    --conflict <style>    conflict style (merge or diff3)\n",
      "    -p, --patch           select hunks interactively\n",
      "    --ignore-skip-worktree-bits\n",
      "                          do not limit pathspecs to sparse entries only\n",
      "    --ignore-other-worktrees\n",
      "                          do not check if another worktree is holding the given ref\n",
      "    --progress            force progress reporting\n",
      "\n"
     ]
    },
    {
     "ename": "",
     "evalue": "129",
     "output_type": "error",
     "traceback": []
    }
   ],
   "source": [
    "git checkout -h"
   ]
  },
  {
   "cell_type": "code",
   "execution_count": 28,
   "metadata": {},
   "outputs": [
    {
     "name": "stdout",
     "output_type": "stream",
     "text": [
      "fatal: A branch named 'feature-A' already exists.\n"
     ]
    },
    {
     "ename": "",
     "evalue": "128",
     "output_type": "error",
     "traceback": []
    }
   ],
   "source": [
    "# git checkout -b ・・・ ブランチを作成し切り替える\n",
    "git checkout -b feature-A"
   ]
  },
  {
   "cell_type": "code",
   "execution_count": 35,
   "metadata": {},
   "outputs": [
    {
     "name": "stdout",
     "output_type": "stream",
     "text": [
      "* \u001b[32mfeature-A\u001b[m\n",
      "  master\u001b[m\n"
     ]
    }
   ],
   "source": [
    "git branch"
   ]
  },
  {
   "cell_type": "markdown",
   "metadata": {},
   "source": [
    "* この状態でgit addコマンドを実行してコミットすると、feature-A ブランチにコミットされる\n",
    "* このようにブランチにコミットをしていくことを、「ブランチを育てる」と言うことがある"
   ]
  },
  {
   "cell_type": "code",
   "execution_count": 36,
   "metadata": {},
   "outputs": [
    {
     "name": "stdout",
     "output_type": "stream",
     "text": [
      "[feature-A deae8b3] update\n",
      " 3 files changed, 578 insertions(+), 2 deletions(-)\n",
      " create mode 100644 2017-09-02 github.ipynb\n",
      " create mode 100644 readme2.md\n"
     ]
    }
   ],
   "source": [
    "touch readme2.md\n",
    "git add .\n",
    "git commit -m 'update'"
   ]
  },
  {
   "cell_type": "code",
   "execution_count": 21,
   "metadata": {},
   "outputs": [
    {
     "name": "stdout",
     "output_type": "stream",
     "text": [
      "\u001b[33mcommit 05921b7061615f1762bb698f765b9ff0d2f34466\u001b[m\n",
      "Author: kuronat <kuronatt@outlook.jp>\n",
      "Date:   Thu Aug 31 14:07:38 2017 +0900\n",
      "\n",
      "    update\n",
      "\n",
      "\u001b[33mcommit 453ff6ee3d95a69a6104b7f10a269ef1022a772c\u001b[m\n",
      "Author: kuronat <kuronatt@outlook.jp>\n",
      "Date:   Sun Aug 27 20:55:28 2017 +0900\n",
      "\n",
      "    update\n",
      "\n",
      "\u001b[33mcommit 9fe1f0abdf34087f2c7772b8045cfd00786d6097\u001b[m\n",
      "Author: kuronat <kuronatt@outlook.jp>\n",
      "Date:   Sun Aug 27 09:31:56 2017 +0900\n",
      "\n",
      "    update\n",
      "\n",
      "\u001b[33mcommit 0997d9537bd391f7274928cc1a53dee11173e51b\u001b[m\n",
      "Author: kuronat <kuronatt@outlook.jp>\n",
      "Date:   Sun Aug 27 01:23:49 2017 +0900\n",
      "\n",
      "    update\n",
      "\n",
      "\u001b[33mcommit c2179045ed5feb56abea551c7e095944df7baa13\u001b[m\n",
      "Author: kuronat <kuronatt@outlook.jp>\n",
      "Date:   Sun Aug 27 00:56:10 2017 +0900\n",
      "\n",
      "    update\n",
      "\n",
      "\u001b[33mcommit 0c0f2fd6d6657e116fdd2a38ab796134ce208bb5\u001b[m\n",
      "Author: kuronat <kuronatt@outlook.jp>\n",
      "Date:   Fri Aug 25 04:06:16 2017 +0900\n",
      "\n",
      "    update\n",
      "\n",
      "\u001b[33mcommit 7e4b1c777e8fb90ab549b22c663af28d73cd6828\u001b[m\n",
      "Author: kuronat <kuronatt@outlook.jp>\n",
      "Date:   Thu Aug 24 19:18:31 2017 +0900\n",
      "\n",
      "    update\n",
      "\n",
      "\u001b[33mcommit d2ecf4fb92d26778a4aed39f11b5034160d1af69\u001b[m\n",
      "Author: kuronat <kuronatt@outlook.jp>\n",
      "Date:   Thu Aug 24 19:17:23 2017 +0900\n",
      "\n",
      "    update\n",
      "\n",
      "\u001b[33mcommit e20a8067cf6b954260d3b1d2db6535643f28643c\u001b[m\n",
      "Author: kuronat <kuronatt@outlook.jp>\n",
      "Date:   Thu Aug 24 19:16:25 2017 +0900\n",
      "\n",
      "    update\n",
      "\n",
      "\u001b[33mcommit 8fefb961ef97cca19850920b0c612cc5c51b71c9\u001b[m\n",
      "Author: kuronat <kuronatt@outlook.jp>\n",
      "Date:   Thu Aug 24 19:12:34 2017 +0900\n",
      "\n",
      "    update\n",
      "\n",
      "\u001b[33mcommit 07f90143aa9542a602f9a809625a67cbfa0d66e9\u001b[m\n",
      "Author: kuronat <kuronatt@outlook.jp>\n",
      "Date:   Wed Aug 23 12:10:18 2017 +0900\n",
      "\n",
      "    update\n",
      "\n",
      "\u001b[33mcommit b8177bd4f74c570d624e11220d5fac1c907a34d2\u001b[m\n",
      "Author: kuronat <kuronatt@outlook.jp>\n",
      "Date:   Wed Aug 23 12:05:53 2017 +0900\n",
      "\n",
      "    update\n",
      "\n",
      "\u001b[33mcommit c0f26716a65b3dd14ba28a09587f898e4d26d3a2\u001b[m\n",
      "Author: kuronat <kuronatt@outlook.jp>\n",
      "Date:   Wed Aug 23 11:51:00 2017 +0900\n",
      "\n",
      "    update\n",
      "\n",
      "\u001b[33mcommit 4ed1ea272ecdbaa3402998b391f77f8d1f91d936\u001b[m\n",
      "Author: kuronat <kuronatt@outlook.jp>\n",
      "Date:   Wed Aug 23 11:44:45 2017 +0900\n",
      "\n",
      "    update\n",
      "\n",
      "\u001b[33mcommit f1048a6011188c22bf8f80f78a60be5df3e9c63f\u001b[m\n",
      "Author: kuronat <kuronatt@outlook.jp>\n",
      "Date:   Wed Aug 23 11:44:39 2017 +0900\n",
      "\n",
      "    update\n",
      "\n",
      "\u001b[33mcommit 3c43804255e05297d7859a3087ae9ae4f6d9cdf8\u001b[m\n",
      "Author: kuronat <kuronatt@outlook.jp>\n",
      "Date:   Wed Aug 23 11:43:28 2017 +0900\n",
      "\n",
      "    update\n",
      "\n",
      "\u001b[33mcommit 6f7dc92a127878f01d24c349964d79bd2c6597ca\u001b[m\n",
      "Author: kuronat <kuronatt@outlook.jp>\n",
      "Date:   Wed Aug 23 11:42:46 2017 +0900\n",
      "\n",
      "    update\n",
      "\n",
      "\u001b[33mcommit 625755fd5971c024b9980e2556a2fdc16675c304\u001b[m\n",
      "Author: kuronat <kuronatt@outlook.jp>\n",
      "Date:   Wed Aug 23 11:41:58 2017 +0900\n",
      "\n",
      "    update\n",
      "\n",
      "\u001b[33mcommit a3cd7e77d4151092b1e72fd13debffb68dc04999\u001b[m\n",
      "Author: kuronat <kuronatt@outlook.jp>\n",
      "Date:   Wed Aug 23 11:39:49 2017 +0900\n",
      "\n",
      "    update\n",
      "\n",
      "\u001b[33mcommit 7f55b8b26ab739aa4acf990e585d9d110515dec8\u001b[m\n",
      "Author: kuronat <kuronatt@outlook.jp>\n",
      "Date:   Wed Aug 23 11:39:17 2017 +0900\n",
      "\n",
      "    update\n",
      "\n",
      "\u001b[33mcommit ecc9b25e8144f0fc0b223e9ea813eccd57e9b21e\u001b[m\n",
      "Author: kuronat <kuronatt@outlook.jp>\n",
      "Date:   Wed Aug 23 11:38:49 2017 +0900\n",
      "\n",
      "    update\n",
      "\n",
      "\u001b[33mcommit 65634217c7fb05fc8b14a4bff011182acd46a290\u001b[m\n",
      "Author: kuronat <kuronatt@outlook.jp>\n",
      "Date:   Wed Aug 23 11:37:17 2017 +0900\n",
      "\n",
      "    update\n",
      "\n",
      "\u001b[33mcommit 7fe5a0495ee308c3109aea773bd22d706eef8e6c\u001b[m\n",
      "Author: kuronat <kuronatt@outlook.jp>\n",
      "Date:   Wed Aug 23 11:37:08 2017 +0900\n",
      "\n",
      "    update\n",
      "\n",
      "\u001b[33mcommit 585f648137c02f6e98febbd4c20df84ede6b015e\u001b[m\n",
      "Author: kuronat <kuronatt@outlook.jp>\n",
      "Date:   Wed Aug 23 11:35:06 2017 +0900\n",
      "\n",
      "    update\n"
     ]
    }
   ],
   "source": [
    "git log"
   ]
  },
  {
   "cell_type": "code",
   "execution_count": 22,
   "metadata": {},
   "outputs": [
    {
     "name": "stdout",
     "output_type": "stream",
     "text": [
      "M\t2017-08-23 note-intro-jupyter.ipynb\n",
      "Switched to branch 'master'\n"
     ]
    }
   ],
   "source": [
    "git checkout master"
   ]
  },
  {
   "cell_type": "code",
   "execution_count": 23,
   "metadata": {},
   "outputs": [
    {
     "name": "stdout",
     "output_type": "stream",
     "text": [
      "  feature-A\u001b[m\n",
      "* \u001b[32mmaster\u001b[m\n"
     ]
    }
   ],
   "source": [
    "git branch"
   ]
  },
  {
   "cell_type": "code",
   "execution_count": 34,
   "metadata": {},
   "outputs": [
    {
     "name": "stdout",
     "output_type": "stream",
     "text": [
      "M\t2017-08-23 note-intro-jupyter.ipynb\n",
      "Switched to branch 'feature-A'\n"
     ]
    }
   ],
   "source": [
    "git checkout -"
   ]
  },
  {
   "cell_type": "code",
   "execution_count": 25,
   "metadata": {},
   "outputs": [
    {
     "name": "stdout",
     "output_type": "stream",
     "text": [
      "M\t2017-08-23 note-intro-jupyter.ipynb\n",
      "Switched to branch 'master'\n"
     ]
    }
   ],
   "source": [
    "git checkout -"
   ]
  },
  {
   "cell_type": "markdown",
   "metadata": {},
   "source": [
    "## ブランチを使ったワークフロー\n",
    "\n",
    "トピックブランチ\n",
    "* あるトピックに関係する作業のみを行い、それ以外を行わないブランチ\n",
    "* たとえばブランチ feature-A は、Aに関係する開発のみを行い、それ以外を行わない\n",
    "* Aに無関係なバグを発見した場合は、バグをトピックとして、また独立した別のトピックブランチをつくって、そちらで作業する\n",
    "* ブランチを切ることで、masterをデプロイ可能な安定ブランチの状態に固定したまま、ある機能(∈トピック)を開発することができる\n",
    "\n",
    "統合ブランチ\n",
    "* 統合先のブランチ、大抵の場合、master がそう\n",
    "* 中途半端な変更を含まず、いつでも他人に見せられるブランチである"
   ]
  },
  {
   "cell_type": "markdown",
   "metadata": {},
   "source": [
    "## ブランチのマージ"
   ]
  },
  {
   "cell_type": "code",
   "execution_count": 38,
   "metadata": {},
   "outputs": [
    {
     "name": "stdout",
     "output_type": "stream",
     "text": [
      "error: Your local changes to the following files would be overwritten by checkout:\n",
      "\t2017-09-02 github.ipynb\n",
      "Please commit your changes or stash them before you switch branches.\n",
      "Aborting\n"
     ]
    },
    {
     "ename": "",
     "evalue": "1",
     "output_type": "error",
     "traceback": []
    }
   ],
   "source": [
    "git checkout master"
   ]
  },
  {
   "cell_type": "code",
   "execution_count": null,
   "metadata": {
    "collapsed": true
   },
   "outputs": [],
   "source": [
    "* Your local changes to the following files would be overwritten"
   ]
  },
  {
   "cell_type": "code",
   "execution_count": 37,
   "metadata": {},
   "outputs": [
    {
     "name": "stdout",
     "output_type": "stream",
     "text": [
      "Already up-to-date.\n"
     ]
    }
   ],
   "source": [
    "git merge --no-ff feature-A -m 'merge'"
   ]
  },
  {
   "cell_type": "code",
   "execution_count": null,
   "metadata": {
    "collapsed": true
   },
   "outputs": [],
   "source": []
  }
 ],
 "metadata": {
  "kernelspec": {
   "display_name": "Bash",
   "language": "bash",
   "name": "bash"
  },
  "language_info": {
   "codemirror_mode": "shell",
   "file_extension": ".sh",
   "mimetype": "text/x-sh",
   "name": "bash"
  }
 },
 "nbformat": 4,
 "nbformat_minor": 2
}
