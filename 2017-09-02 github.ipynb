{
 "cells": [
  {
   "cell_type": "markdown",
   "metadata": {},
   "source": [
    "# GitHub実践入門"
   ]
  },
  {
   "cell_type": "markdown",
   "metadata": {},
   "source": [
    "* 雰囲気だけでGitHubを使うのは良くないのであらためて勉強する"
   ]
  },
  {
   "cell_type": "markdown",
   "metadata": {},
   "source": [
    "## 基本"
   ]
  },
  {
   "cell_type": "code",
   "execution_count": null,
   "metadata": {
    "collapsed": true
   },
   "outputs": [],
   "source": [
    "git init\n",
    "git add <files or directries>\n",
    "git commit -m <commit message>\n",
    "git status"
   ]
  },
  {
   "cell_type": "code",
   "execution_count": 3,
   "metadata": {
    "scrolled": false
   },
   "outputs": [
    {
     "name": "stdout",
     "output_type": "stream",
     "text": [
      "On branch master\n",
      "Untracked files:\n",
      "  (use \"git add <file>...\" to include in what will be committed)\n",
      "\n",
      "\t\u001b[31m2017-09-02 github.ipynb\u001b[m\n",
      "\n",
      "nothing added to commit but untracked files present (use \"git add\" to track)\n"
     ]
    }
   ],
   "source": [
    "# リポジトリの概要を把握する\n",
    "git status"
   ]
  },
  {
   "cell_type": "markdown",
   "metadata": {},
   "source": [
    "## コミットログ"
   ]
  },
  {
   "cell_type": "code",
   "execution_count": 7,
   "metadata": {
    "scrolled": false
   },
   "outputs": [
    {
     "name": "stdout",
     "output_type": "stream",
     "text": [
      "commit 05921b7061615f1762bb698f765b9ff0d2f34466\n",
      "Author: kuronat <kuronatt@outlook.jp>\n",
      "Date:   Thu Aug 31 14:07:38 2017 +0900\n",
      "\n",
      "    update\n",
      "\n",
      "commit 453ff6ee3d95a69a6104b7f10a269ef1022a772c\n",
      "Author: kuronat <kuronatt@outlook.jp>\n",
      "Date:   Sun Aug 27 20:55:28 2017 +0900\n",
      "\n",
      "    update\n",
      "\n"
     ]
    }
   ],
   "source": [
    "# コミットログを閲覧する\n",
    "git log | head -n 12"
   ]
  },
  {
   "cell_type": "code",
   "execution_count": 11,
   "metadata": {},
   "outputs": [
    {
     "name": "stdout",
     "output_type": "stream",
     "text": [
      "\u001b[33mcommit 585f648137c02f6e98febbd4c20df84ede6b015e\u001b[m\n",
      "Author: kuronat <kuronatt@outlook.jp>\n",
      "Date:   Wed Aug 23 11:35:06 2017 +0900\n",
      "\n",
      "    update\n"
     ]
    }
   ],
   "source": [
    "# あるファイルに関係するコミットログを閲覧する\n",
    "git log ./readme.md "
   ]
  },
  {
   "cell_type": "code",
   "execution_count": 15,
   "metadata": {},
   "outputs": [
    {
     "name": "stdout",
     "output_type": "stream",
     "text": [
      "commit 05921b7061615f1762bb698f765b9ff0d2f34466\n",
      "Author: kuronat <kuronatt@outlook.jp>\n",
      "Date:   Thu Aug 31 14:07:38 2017 +0900\n",
      "\n",
      "    update\n",
      "\n",
      "diff --git a/2017-08-25-r-juypter.ipynb b/2017-08-25 r-juypter.ipynb\n",
      "similarity index 100%\n",
      "rename from 2017-08-25-r-juypter.ipynb\n",
      "rename to 2017-08-25 r-juypter.ipynb\n",
      "diff --git a/2017-08-27 nlp-hitting 010-019.ipynb b/2017-08-27 nlp-hitting 010-019.ipynb\n",
      "index ac01d7b..7895a2b 100644\n",
      "--- a/2017-08-27 nlp-hitting 010-019.ipynb\t\n",
      "+++ b/2017-08-27 nlp-hitting 010-019.ipynb\t\n",
      "@@ -1,15 +1,319 @@\n",
      " {\n",
      "  \"cells\": [\n",
      "   {\n",
      "+   \"cell_type\": \"markdown\",\n",
      "+   \"metadata\": {\n",
      "+    \"collapsed\": true\n",
      "+   },\n",
      "+   \"source\": [\n",
      "+    \"やりかけ\\n\",\n",
      "+    \"\\n\",\n",
      "+    \"* http://www.cl.ecei.tohoku.ac.jp/nlp100/\\n\",\n",
      "+    \"* UNIXコマンドが中心です\"\n",
      "+   ]\n",
      "+  },\n",
      "+  {\n"
     ]
    }
   ],
   "source": [
    "git log -p | head -n 30"
   ]
  },
  {
   "cell_type": "markdown",
   "metadata": {},
   "source": [
    "* git log を使いこなすためにlessの操作方法を覚えておくとよい\n",
    "* たとえば /^commit するとコミットログを追いかけるのが多少楽になる、かも\n",
    "* なお古いバージョンのlessでは正規表現がうまく動かないので brew install less する"
   ]
  },
  {
   "cell_type": "markdown",
   "metadata": {},
   "source": [
    "## ブランチ\n",
    "\n",
    "なぜブランチが必要なのか\n",
    "+ 別々の作業を並行して行いたいから\n",
    "+ 最新の状態が複数あるような状態にしたいから\n",
    "    + e.g. masterをデプロイ可能な安定ブランチの状態に固定したままリポジトリの作業をしたい"
   ]
  },
  {
   "cell_type": "code",
   "execution_count": 1,
   "metadata": {},
   "outputs": [
    {
     "name": "stdout",
     "output_type": "stream",
     "text": [
      "* \u001b[32mmaster\u001b[m\n"
     ]
    }
   ],
   "source": [
    "git branch"
   ]
  },
  {
   "cell_type": "code",
   "execution_count": 17,
   "metadata": {
    "scrolled": false
   },
   "outputs": [
    {
     "name": "stdout",
     "output_type": "stream",
     "text": [
      "usage: git checkout [<options>] <branch>\n",
      "   or: git checkout [<options>] [<branch>] -- <file>...\n",
      "\n",
      "    -q, --quiet           suppress progress reporting\n",
      "    -b <branch>           create and checkout a new branch\n",
      "    -B <branch>           create/reset and checkout a branch\n",
      "    -l                    create reflog for new branch\n",
      "    --detach              detach HEAD at named commit\n",
      "    -t, --track           set upstream info for new branch\n",
      "    --orphan <new-branch>\n",
      "                          new unparented branch\n",
      "    -2, --ours            checkout our version for unmerged files\n",
      "    -3, --theirs          checkout their version for unmerged files\n",
      "    -f, --force           force checkout (throw away local modifications)\n",
      "    -m, --merge           perform a 3-way merge with the new branch\n",
      "    --overwrite-ignore    update ignored files (default)\n",
      "    --conflict <style>    conflict style (merge or diff3)\n",
      "    -p, --patch           select hunks interactively\n",
      "    --ignore-skip-worktree-bits\n",
      "                          do not limit pathspecs to sparse entries only\n",
      "    --ignore-other-worktrees\n",
      "                          do not check if another worktree is holding the given ref\n",
      "    --progress            force progress reporting\n",
      "\n"
     ]
    },
    {
     "ename": "",
     "evalue": "129",
     "output_type": "error",
     "traceback": []
    }
   ],
   "source": [
    "git checkout -h"
   ]
  },
  {
   "cell_type": "code",
   "execution_count": 28,
   "metadata": {},
   "outputs": [
    {
     "name": "stdout",
     "output_type": "stream",
     "text": [
      "fatal: A branch named 'feature-A' already exists.\n"
     ]
    },
    {
     "ename": "",
     "evalue": "128",
     "output_type": "error",
     "traceback": []
    }
   ],
   "source": [
    "# git checkout -b ・・・ ブランチを作成し切り替える\n",
    "git checkout -b feature-A"
   ]
  },
  {
   "cell_type": "code",
   "execution_count": 35,
   "metadata": {},
   "outputs": [
    {
     "name": "stdout",
     "output_type": "stream",
     "text": [
      "* \u001b[32mfeature-A\u001b[m\n",
      "  master\u001b[m\n"
     ]
    }
   ],
   "source": [
    "git branch"
   ]
  },
  {
   "cell_type": "markdown",
   "metadata": {},
   "source": [
    "* この状態でgit addコマンドを実行してコミットすると、feature-A ブランチにコミットされる\n",
    "* このようにブランチにコミットをしていくことを、「ブランチを育てる」と言うことがある"
   ]
  },
  {
   "cell_type": "code",
   "execution_count": 40,
   "metadata": {},
   "outputs": [
    {
     "name": "stdout",
     "output_type": "stream",
     "text": [
      "M\t2017-09-02 github.ipynb\n",
      "Already on 'feature-A'\n",
      "[feature-A e35c921] update\n",
      " 1 file changed, 92 insertions(+), 6 deletions(-)\n"
     ]
    }
   ],
   "source": [
    "git checkout feature-A\n",
    "touch readme2.md\n",
    "git add .\n",
    "git commit -m 'update'"
   ]
  },
  {
   "cell_type": "code",
   "execution_count": 2,
   "metadata": {},
   "outputs": [
    {
     "name": "stdout",
     "output_type": "stream",
     "text": [
      "commit 0cbee07a5c9ebb61d03627ddc2504cae356bbedd\n",
      "Merge: 05921b7 e35c921\n",
      "Author: kuronat <kuronatt@outlook.jp>\n",
      "Date:   Sat Sep 2 02:47:17 2017 +0900\n",
      "\n",
      "    merge\n",
      "\n",
      "commit e35c9213a46584c70c19d87e06e4a4242c94d039\n",
      "Author: kuronat <kuronatt@outlook.jp>\n",
      "Date:   Sat Sep 2 02:46:55 2017 +0900\n",
      "\n",
      "    update\n",
      "\n",
      "commit deae8b396c1f12a8e95c9269cb3dcbb26fd85528\n",
      "Author: kuronat <kuronatt@outlook.jp>\n",
      "Date:   Sat Sep 2 02:45:28 2017 +0900\n",
      "\n",
      "    update\n",
      "\n",
      "commit 05921b7061615f1762bb698f765b9ff0d2f34466\n",
      "Author: kuronat <kuronatt@outlook.jp>\n",
      "Date:   Thu Aug 31 14:07:38 2017 +0900\n",
      "\n",
      "    update\n",
      "\n",
      "commit 453ff6ee3d95a69a6104b7f10a269ef1022a772c\n",
      "Author: kuronat <kuronatt@outlook.jp>\n",
      "Date:   Sun Aug 27 20:55:28 2017 +0900\n",
      "\n",
      "    update\n"
     ]
    }
   ],
   "source": [
    "git log | head -n 30"
   ]
  },
  {
   "cell_type": "code",
   "execution_count": 22,
   "metadata": {},
   "outputs": [
    {
     "name": "stdout",
     "output_type": "stream",
     "text": [
      "M\t2017-08-23 note-intro-jupyter.ipynb\n",
      "Switched to branch 'master'\n"
     ]
    }
   ],
   "source": [
    "git checkout master"
   ]
  },
  {
   "cell_type": "code",
   "execution_count": 23,
   "metadata": {
    "scrolled": true
   },
   "outputs": [
    {
     "name": "stdout",
     "output_type": "stream",
     "text": [
      "  feature-A\u001b[m\n",
      "* \u001b[32mmaster\u001b[m\n"
     ]
    }
   ],
   "source": [
    "git branch"
   ]
  },
  {
   "cell_type": "code",
   "execution_count": 34,
   "metadata": {},
   "outputs": [
    {
     "name": "stdout",
     "output_type": "stream",
     "text": [
      "M\t2017-08-23 note-intro-jupyter.ipynb\n",
      "Switched to branch 'feature-A'\n"
     ]
    }
   ],
   "source": [
    "git checkout -"
   ]
  },
  {
   "cell_type": "code",
   "execution_count": 25,
   "metadata": {},
   "outputs": [
    {
     "name": "stdout",
     "output_type": "stream",
     "text": [
      "M\t2017-08-23 note-intro-jupyter.ipynb\n",
      "Switched to branch 'master'\n"
     ]
    }
   ],
   "source": [
    "git checkout -"
   ]
  },
  {
   "cell_type": "markdown",
   "metadata": {},
   "source": [
    "## ブランチを使ったワークフロー\n",
    "\n",
    "トピックブランチ\n",
    "* あるトピックに関係する作業のみを行い、それ以外を行わないブランチ\n",
    "* たとえばブランチ feature-A は、Aに関係する開発のみを行い、それ以外を行わない\n",
    "* Aに無関係なバグを発見した場合は、 feature-A では作業しない\n",
    "    + バグをトピックとして、また独立した別のトピックブランチをつくって、そちらで作業する\n",
    "* ブランチを切ることで、ある機能(∈トピック)を開発することができる\n",
    "\n",
    "統合ブランチ\n",
    "* 統合先のブランチ、大抵の場合、master がそう\n",
    "* 中途半端な変更を含まず、いつでも他人に見せられるブランチである"
   ]
  },
  {
   "cell_type": "markdown",
   "metadata": {},
   "source": [
    "## ブランチのマージ"
   ]
  },
  {
   "cell_type": "code",
   "execution_count": 41,
   "metadata": {},
   "outputs": [
    {
     "name": "stdout",
     "output_type": "stream",
     "text": [
      "Switched to branch 'master'\n"
     ]
    }
   ],
   "source": [
    "git checkout master"
   ]
  },
  {
   "cell_type": "code",
   "execution_count": 42,
   "metadata": {},
   "outputs": [
    {
     "name": "stdout",
     "output_type": "stream",
     "text": [
      "Merge made by the 'recursive' strategy.\n",
      " 2017-08-23 note-intro-jupyter.ipynb |   6 \u001b[32m+\u001b[m\u001b[31m-\u001b[m\n",
      " 2017-09-02 github.ipynb             | 660 \u001b[32m++++++++++++++++++++++++++++++++++++\u001b[m\n",
      " readme2.md                          |   0\n",
      " 3 files changed, 664 insertions(+), 2 deletions(-)\n",
      " create mode 100644 2017-09-02 github.ipynb\n",
      " create mode 100644 readme2.md\n"
     ]
    }
   ],
   "source": [
    "# master に feature-A をマージ\n",
    "git merge --no-ff feature-A -m 'merge'"
   ]
  },
  {
   "cell_type": "code",
   "execution_count": 1,
   "metadata": {},
   "outputs": [
    {
     "name": "stdout",
     "output_type": "stream",
     "text": [
      "*   commit 0cbee07a5c9ebb61d03627ddc2504cae356bbedd\n",
      "|\\  Merge: 05921b7 e35c921\n",
      "| | Author: kuronat <kuronatt@outlook.jp>\n",
      "| | Date:   Sat Sep 2 02:47:17 2017 +0900\n",
      "| | \n",
      "| |     merge\n",
      "| | \n",
      "| * commit e35c9213a46584c70c19d87e06e4a4242c94d039\n",
      "| | Author: kuronat <kuronatt@outlook.jp>\n",
      "| | Date:   Sat Sep 2 02:46:55 2017 +0900\n",
      "| | \n",
      "| |     update\n",
      "| | \n",
      "| * commit deae8b396c1f12a8e95c9269cb3dcbb26fd85528\n",
      "|/  Author: kuronat <kuronatt@outlook.jp>\n",
      "|   Date:   Sat Sep 2 02:45:28 2017 +0900\n",
      "|   \n",
      "|       update\n",
      "| \n",
      "* commit 05921b7061615f1762bb698f765b9ff0d2f34466\n",
      "| Author: kuronat <kuronatt@outlook.jp>\n",
      "| Date:   Thu Aug 31 14:07:38 2017 +0900\n",
      "| \n",
      "|     update\n",
      "| \n",
      "* commit 453ff6ee3d95a69a6104b7f10a269ef1022a772c\n",
      "| Author: kuronat <kuronatt@outlook.jp>\n",
      "| Date:   Sun Aug 27 20:55:28 2017 +0900\n",
      "| \n",
      "|     update\n"
     ]
    }
   ],
   "source": [
    "# 見てみよう\n",
    "git log --graph | head -n 30"
   ]
  },
  {
   "cell_type": "markdown",
   "metadata": {},
   "source": [
    "## GitHub Issue\n",
    "* バグや論議などをトラッキングして管理する\n",
    "* Issueを管理するシステムはバグ管理システム, イシュートラッカーなどと呼ばれ, 同様の製品にRedMineなどがある\n",
    "* 日本では「チケット」と呼ばれることもある\n",
    "\n",
    "イシュートラッカーはどういうときに立つか\n",
    "* 非コミッタが、ソフトウェアのバグを発見したとき、バグレポートを報告する\n",
    "* 非コミッタが、コミッタに相談したいことがあったとき、聞きたいことを問い合わせる\n",
    "* コミッタが、今後、実施する予定のタスクを書き出しておく\n",
    "\n",
    "GitHub Issue\n",
    "* 各Issueには任意のラベルをつけることができる\n",
    "    + 増えて整理が必要になったときにやるのであり Issue が少ないうちからラベル付けする必要はない\n",
    "* Issueの集まりに対してマイルストーンを設定できる\n",
    "    + あるマイルストーンに関連するissueをクローズするなどの進捗度を計測できる\n",
    "* チェックリスト記法はその場でチェックを入れたり外したりできる\n",
    "\n",
    "RedMine vs. GitHub Issue\n",
    "* チケット作成\n",
    "    + RedMineは機能豊富だが、入力項目が多すぎる\n",
    "    + GitHubはタイトルとMarkdownを書くだけである\n",
    "* GitHubはシンプルが大切\n",
    "    + チームが最大限に能力を発揮するためには、複雑なルールを排除し、シンプルなルールだけにする\n",
    "    + GitHubで機能が足りないと感じても、足りない機能をほかのツールですぐに補おうとしないほうが良い"
   ]
  },
  {
   "cell_type": "markdown",
   "metadata": {},
   "source": [
    "## Pull Request\n",
    "\n",
    "Pull Request\n",
    "* あなたが加えた変更を相手のリポジトリに取り込んでほしいときにする行為\n",
    "* GitHubでPull Requestを送信すると、送信先のリポジトリにソースコー ド付きの Issue が発行される\n",
    "* その Issue に詳細な内容を記載する\n",
    "* これがPull Requestになる\n",
    "\n",
    "なぜトピックブランチで作業すると良いのか\n",
    "* トピックが明確になることで、PR時のレビューが効果的に行える\n",
    "\n",
    "初心者の敷居が高い問題\n",
    "* 送る対象のプロジェクトが見つけられなかったり、送り方がわからなかったりなど、一番初めのハードルが比較的高い\n",
    "\n",
    "Work in Progressパターン\n",
    "* PRを早い段階から出す。たとえば作業開始や、ある程度やったらPRする\n",
    "* 開発の途中でも論議するためにPRを送る\n",
    "* レビュアからフィードバックを得て、設計や実装の意識を合わせていき、少しずつ品質の高いコードを書き上げていく\n"
   ]
  },
  {
   "cell_type": "code",
   "execution_count": null,
   "metadata": {
    "collapsed": true
   },
   "outputs": [],
   "source": []
  }
 ],
 "metadata": {
  "kernelspec": {
   "display_name": "Bash",
   "language": "bash",
   "name": "bash"
  },
  "language_info": {
   "codemirror_mode": "shell",
   "file_extension": ".sh",
   "mimetype": "text/x-sh",
   "name": "bash"
  }
 },
 "nbformat": 4,
 "nbformat_minor": 2
}
